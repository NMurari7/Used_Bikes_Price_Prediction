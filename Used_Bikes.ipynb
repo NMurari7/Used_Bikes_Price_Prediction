{
 "cells": [
  {
   "cell_type": "code",
   "execution_count": 12,
   "metadata": {},
   "outputs": [],
   "source": [
    "import pandas as pd \n",
    "import numpy as np \n",
    "import matplotlib.pyplot as plt\n",
    "import seaborn as sns"
   ]
  },
  {
   "cell_type": "code",
   "execution_count": 13,
   "metadata": {},
   "outputs": [
    {
     "name": "stdout",
     "output_type": "stream",
     "text": [
      "1.0.2\n"
     ]
    }
   ],
   "source": [
    "import sklearn\n",
    "print(sklearn.__version__)"
   ]
  },
  {
   "cell_type": "code",
   "execution_count": 14,
   "metadata": {
    "scrolled": true
   },
   "outputs": [
    {
     "data": {
      "text/html": [
       "<div>\n",
       "<style scoped>\n",
       "    .dataframe tbody tr th:only-of-type {\n",
       "        vertical-align: middle;\n",
       "    }\n",
       "\n",
       "    .dataframe tbody tr th {\n",
       "        vertical-align: top;\n",
       "    }\n",
       "\n",
       "    .dataframe thead th {\n",
       "        text-align: right;\n",
       "    }\n",
       "</style>\n",
       "<table border=\"1\" class=\"dataframe\">\n",
       "  <thead>\n",
       "    <tr style=\"text-align: right;\">\n",
       "      <th></th>\n",
       "      <th>bike_name</th>\n",
       "      <th>price</th>\n",
       "      <th>city</th>\n",
       "      <th>kms_driven</th>\n",
       "      <th>owner</th>\n",
       "      <th>age</th>\n",
       "      <th>power</th>\n",
       "      <th>brand</th>\n",
       "    </tr>\n",
       "  </thead>\n",
       "  <tbody>\n",
       "    <tr>\n",
       "      <th>0</th>\n",
       "      <td>TVS Star City Plus Dual Tone 110cc</td>\n",
       "      <td>35000.0</td>\n",
       "      <td>Ahmedabad</td>\n",
       "      <td>17654.0</td>\n",
       "      <td>First Owner</td>\n",
       "      <td>3.0</td>\n",
       "      <td>110.0</td>\n",
       "      <td>TVS</td>\n",
       "    </tr>\n",
       "    <tr>\n",
       "      <th>1</th>\n",
       "      <td>Royal Enfield Classic 350cc</td>\n",
       "      <td>119900.0</td>\n",
       "      <td>Delhi</td>\n",
       "      <td>11000.0</td>\n",
       "      <td>First Owner</td>\n",
       "      <td>4.0</td>\n",
       "      <td>350.0</td>\n",
       "      <td>Royal Enfield</td>\n",
       "    </tr>\n",
       "    <tr>\n",
       "      <th>2</th>\n",
       "      <td>Triumph Daytona 675R</td>\n",
       "      <td>600000.0</td>\n",
       "      <td>Delhi</td>\n",
       "      <td>110.0</td>\n",
       "      <td>First Owner</td>\n",
       "      <td>8.0</td>\n",
       "      <td>675.0</td>\n",
       "      <td>Triumph</td>\n",
       "    </tr>\n",
       "    <tr>\n",
       "      <th>3</th>\n",
       "      <td>TVS Apache RTR 180cc</td>\n",
       "      <td>65000.0</td>\n",
       "      <td>Bangalore</td>\n",
       "      <td>16329.0</td>\n",
       "      <td>First Owner</td>\n",
       "      <td>4.0</td>\n",
       "      <td>180.0</td>\n",
       "      <td>TVS</td>\n",
       "    </tr>\n",
       "    <tr>\n",
       "      <th>4</th>\n",
       "      <td>Yamaha FZ S V 2.0 150cc-Ltd. Edition</td>\n",
       "      <td>80000.0</td>\n",
       "      <td>Bangalore</td>\n",
       "      <td>10000.0</td>\n",
       "      <td>First Owner</td>\n",
       "      <td>3.0</td>\n",
       "      <td>150.0</td>\n",
       "      <td>Yamaha</td>\n",
       "    </tr>\n",
       "  </tbody>\n",
       "</table>\n",
       "</div>"
      ],
      "text/plain": [
       "                              bike_name     price       city  kms_driven  \\\n",
       "0    TVS Star City Plus Dual Tone 110cc   35000.0  Ahmedabad     17654.0   \n",
       "1           Royal Enfield Classic 350cc  119900.0      Delhi     11000.0   \n",
       "2                  Triumph Daytona 675R  600000.0      Delhi       110.0   \n",
       "3                  TVS Apache RTR 180cc   65000.0  Bangalore     16329.0   \n",
       "4  Yamaha FZ S V 2.0 150cc-Ltd. Edition   80000.0  Bangalore     10000.0   \n",
       "\n",
       "         owner  age  power          brand  \n",
       "0  First Owner  3.0  110.0            TVS  \n",
       "1  First Owner  4.0  350.0  Royal Enfield  \n",
       "2  First Owner  8.0  675.0        Triumph  \n",
       "3  First Owner  4.0  180.0            TVS  \n",
       "4  First Owner  3.0  150.0         Yamaha  "
      ]
     },
     "execution_count": 14,
     "metadata": {},
     "output_type": "execute_result"
    }
   ],
   "source": [
    "df = pd.read_csv('Used_Bikes.csv')\n",
    "df.head()"
   ]
  },
  {
   "cell_type": "code",
   "execution_count": 15,
   "metadata": {},
   "outputs": [
    {
     "data": {
      "text/plain": [
       "[150,\n",
       " 100,\n",
       " 220,\n",
       " 350,\n",
       " 125,\n",
       " 200,\n",
       " 160,\n",
       " 180,\n",
       " 390,\n",
       " 250,\n",
       " 400,\n",
       " 750,\n",
       " 110,\n",
       " 500,\n",
       " 135,\n",
       " 223,\n",
       " 650,\n",
       " 410,\n",
       " 300,\n",
       " 310,\n",
       " 883,\n",
       " 535,\n",
       " 1000,\n",
       " 1200,\n",
       " 800,\n",
       " 600,\n",
       " 295,\n",
       " 320,\n",
       " 1300,\n",
       " 900,\n",
       " 302,\n",
       " 765,\n",
       " 797,\n",
       " 675,\n",
       " 959,\n",
       " 865,\n",
       " 149,\n",
       " 1130,\n",
       " 502,\n",
       " 899,\n",
       " 850,\n",
       " 1050,\n",
       " 1262,\n",
       " 796,\n",
       " 1090,\n",
       " 1198,\n",
       " 175,\n",
       " 1700,\n",
       " 1100,\n",
       " 1800,\n",
       " 1299,\n",
       " 821,\n",
       " 107]"
      ]
     },
     "execution_count": 15,
     "metadata": {},
     "output_type": "execute_result"
    }
   ],
   "source": [
    "cc_dic = df['power'].value_counts().to_dict()\n",
    "# print(cc_dic)\n",
    "cc_list = [int(cc) for cc in cc_dic.keys()]\n",
    "cc_list"
   ]
  },
  {
   "cell_type": "code",
   "execution_count": 16,
   "metadata": {},
   "outputs": [
    {
     "name": "stdout",
     "output_type": "stream",
     "text": [
      "Categorical columns:-  ['bike_name', 'city', 'owner', 'brand']\n",
      "Numerical columns:-  ['price', 'kms_driven', 'age', 'power']\n"
     ]
    }
   ],
   "source": [
    "cols = df.columns\n",
    "cols\n",
    "\n",
    "cat_cols = []\n",
    "num_cols = []\n",
    "for col in cols:\n",
    "    if df[col].dtype == \"object\":\n",
    "        cat_cols.append(col)\n",
    "    else:\n",
    "        num_cols.append(col)\n",
    "print(\"Categorical columns:- \",cat_cols)\n",
    "print(\"Numerical columns:- \",num_cols)"
   ]
  },
  {
   "cell_type": "code",
   "execution_count": 17,
   "metadata": {},
   "outputs": [
    {
     "data": {
      "text/plain": [
       "(32648, 8)"
      ]
     },
     "execution_count": 17,
     "metadata": {},
     "output_type": "execute_result"
    }
   ],
   "source": [
    "df.shape"
   ]
  },
  {
   "cell_type": "code",
   "execution_count": 18,
   "metadata": {},
   "outputs": [
    {
     "name": "stdout",
     "output_type": "stream",
     "text": [
      "<class 'pandas.core.frame.DataFrame'>\n",
      "RangeIndex: 32648 entries, 0 to 32647\n",
      "Data columns (total 8 columns):\n",
      " #   Column      Non-Null Count  Dtype  \n",
      "---  ------      --------------  -----  \n",
      " 0   bike_name   32648 non-null  object \n",
      " 1   price       32648 non-null  float64\n",
      " 2   city        32648 non-null  object \n",
      " 3   kms_driven  32648 non-null  float64\n",
      " 4   owner       32648 non-null  object \n",
      " 5   age         32648 non-null  float64\n",
      " 6   power       32648 non-null  float64\n",
      " 7   brand       32648 non-null  object \n",
      "dtypes: float64(4), object(4)\n",
      "memory usage: 2.0+ MB\n"
     ]
    }
   ],
   "source": [
    "df.info()"
   ]
  },
  {
   "cell_type": "code",
   "execution_count": 19,
   "metadata": {},
   "outputs": [
    {
     "data": {
      "text/html": [
       "<div>\n",
       "<style scoped>\n",
       "    .dataframe tbody tr th:only-of-type {\n",
       "        vertical-align: middle;\n",
       "    }\n",
       "\n",
       "    .dataframe tbody tr th {\n",
       "        vertical-align: top;\n",
       "    }\n",
       "\n",
       "    .dataframe thead th {\n",
       "        text-align: right;\n",
       "    }\n",
       "</style>\n",
       "<table border=\"1\" class=\"dataframe\">\n",
       "  <thead>\n",
       "    <tr style=\"text-align: right;\">\n",
       "      <th></th>\n",
       "      <th>price</th>\n",
       "      <th>kms_driven</th>\n",
       "      <th>age</th>\n",
       "      <th>power</th>\n",
       "    </tr>\n",
       "  </thead>\n",
       "  <tbody>\n",
       "    <tr>\n",
       "      <th>count</th>\n",
       "      <td>3.264800e+04</td>\n",
       "      <td>32648.000000</td>\n",
       "      <td>32648.000000</td>\n",
       "      <td>32648.000000</td>\n",
       "    </tr>\n",
       "    <tr>\n",
       "      <th>mean</th>\n",
       "      <td>6.829542e+04</td>\n",
       "      <td>26344.625184</td>\n",
       "      <td>8.048211</td>\n",
       "      <td>213.511302</td>\n",
       "    </tr>\n",
       "    <tr>\n",
       "      <th>std</th>\n",
       "      <td>9.071860e+04</td>\n",
       "      <td>22208.527695</td>\n",
       "      <td>4.031700</td>\n",
       "      <td>134.428868</td>\n",
       "    </tr>\n",
       "    <tr>\n",
       "      <th>min</th>\n",
       "      <td>4.400000e+03</td>\n",
       "      <td>1.000000</td>\n",
       "      <td>1.000000</td>\n",
       "      <td>100.000000</td>\n",
       "    </tr>\n",
       "    <tr>\n",
       "      <th>25%</th>\n",
       "      <td>2.500000e+04</td>\n",
       "      <td>12000.000000</td>\n",
       "      <td>5.000000</td>\n",
       "      <td>150.000000</td>\n",
       "    </tr>\n",
       "    <tr>\n",
       "      <th>50%</th>\n",
       "      <td>4.300000e+04</td>\n",
       "      <td>20373.000000</td>\n",
       "      <td>7.000000</td>\n",
       "      <td>150.000000</td>\n",
       "    </tr>\n",
       "    <tr>\n",
       "      <th>75%</th>\n",
       "      <td>8.000000e+04</td>\n",
       "      <td>35000.000000</td>\n",
       "      <td>10.000000</td>\n",
       "      <td>220.000000</td>\n",
       "    </tr>\n",
       "    <tr>\n",
       "      <th>max</th>\n",
       "      <td>1.900000e+06</td>\n",
       "      <td>750000.000000</td>\n",
       "      <td>63.000000</td>\n",
       "      <td>1800.000000</td>\n",
       "    </tr>\n",
       "  </tbody>\n",
       "</table>\n",
       "</div>"
      ],
      "text/plain": [
       "              price     kms_driven           age         power\n",
       "count  3.264800e+04   32648.000000  32648.000000  32648.000000\n",
       "mean   6.829542e+04   26344.625184      8.048211    213.511302\n",
       "std    9.071860e+04   22208.527695      4.031700    134.428868\n",
       "min    4.400000e+03       1.000000      1.000000    100.000000\n",
       "25%    2.500000e+04   12000.000000      5.000000    150.000000\n",
       "50%    4.300000e+04   20373.000000      7.000000    150.000000\n",
       "75%    8.000000e+04   35000.000000     10.000000    220.000000\n",
       "max    1.900000e+06  750000.000000     63.000000   1800.000000"
      ]
     },
     "execution_count": 19,
     "metadata": {},
     "output_type": "execute_result"
    }
   ],
   "source": [
    "df.describe()"
   ]
  },
  {
   "cell_type": "code",
   "execution_count": 20,
   "metadata": {},
   "outputs": [
    {
     "data": {
      "text/plain": [
       "bike_name    471\n",
       "city         443\n",
       "owner          4\n",
       "brand         23\n",
       "dtype: int64"
      ]
     },
     "execution_count": 20,
     "metadata": {},
     "output_type": "execute_result"
    }
   ],
   "source": [
    "df[cat_cols].nunique()"
   ]
  },
  {
   "cell_type": "code",
   "execution_count": 21,
   "metadata": {},
   "outputs": [
    {
     "data": {
      "text/plain": [
       "bike_name     0\n",
       "price         0\n",
       "city          0\n",
       "kms_driven    0\n",
       "owner         0\n",
       "age           0\n",
       "power         0\n",
       "brand         0\n",
       "dtype: int64"
      ]
     },
     "execution_count": 21,
     "metadata": {},
     "output_type": "execute_result"
    }
   ],
   "source": [
    "df.isna().sum()"
   ]
  },
  {
   "cell_type": "code",
   "execution_count": 22,
   "metadata": {},
   "outputs": [
    {
     "data": {
      "text/plain": [
       "969"
      ]
     },
     "execution_count": 22,
     "metadata": {},
     "output_type": "execute_result"
    }
   ],
   "source": [
    "df[df['price'] > 250000].shape[0]"
   ]
  },
  {
   "cell_type": "markdown",
   "metadata": {},
   "source": [
    "Observation:- Out of 32000 bikes 969 bikes price over 2.5lacs"
   ]
  },
  {
   "cell_type": "code",
   "execution_count": 10,
   "metadata": {
    "scrolled": true
   },
   "outputs": [
    {
     "data": {
      "image/png": "[encoded data removed]",
      "text/plain": [
       "<Figure size 576x432 with 1 Axes>"
      ]
     },
     "metadata": {
      "needs_background": "light"
     },
     "output_type": "display_data"
    }
   ],
   "source": [
    "plt.figure(figsize = (8,6))\n",
    "sns.boxplot(data=df[['price']],x='price')\n",
    "# plt.ylim(round(df.price.min(),0), round(df.price.max(),0))\n",
    "plt.show()"
   ]
  },
  {
   "cell_type": "code",
   "execution_count": 11,
   "metadata": {},
   "outputs": [
    {
     "data": {
      "text/plain": [
       "<seaborn.axisgrid.PairGrid at 0x152d7ba1190>"
      ]
     },
     "execution_count": 11,
     "metadata": {},
     "output_type": "execute_result"
    },
    {
     "data": {
      "image/png": "[encoded data removed]",
      "text/plain": [
       "<Figure size 720x720 with 20 Axes>"
      ]
     },
     "metadata": {
      "needs_background": "light"
     },
     "output_type": "display_data"
    }
   ],
   "source": [
    "sns.pairplot(df,diag_kind=\"kde\")"
   ]
  },
  {
   "cell_type": "markdown",
   "metadata": {},
   "source": [
    "## Owner"
   ]
  },
  {
   "cell_type": "code",
   "execution_count": 12,
   "metadata": {},
   "outputs": [
    {
     "data": {
      "text/plain": [
       "<AxesSubplot:xlabel='owner', ylabel='price'>"
      ]
     },
     "execution_count": 12,
     "metadata": {},
     "output_type": "execute_result"
    },
    {
     "data": {
      "image/png": "[encoded data removed]",
      "text/plain": [
       "<Figure size 720x576 with 1 Axes>"
      ]
     },
     "metadata": {
      "needs_background": "light"
     },
     "output_type": "display_data"
    }
   ],
   "source": [
    "plt.figure(figsize = (10,8))\n",
    "sns.boxplot(data=df[['price','owner']],x='owner',y='price')"
   ]
  },
  {
   "cell_type": "code",
   "execution_count": 23,
   "metadata": {
    "scrolled": true
   },
   "outputs": [
    {
     "data": {
      "text/html": [
       "<div>\n",
       "<style scoped>\n",
       "    .dataframe tbody tr th:only-of-type {\n",
       "        vertical-align: middle;\n",
       "    }\n",
       "\n",
       "    .dataframe tbody tr th {\n",
       "        vertical-align: top;\n",
       "    }\n",
       "\n",
       "    .dataframe thead th {\n",
       "        text-align: right;\n",
       "    }\n",
       "</style>\n",
       "<table border=\"1\" class=\"dataframe\">\n",
       "  <thead>\n",
       "    <tr style=\"text-align: right;\">\n",
       "      <th></th>\n",
       "      <th>price</th>\n",
       "      <th>kms_driven</th>\n",
       "      <th>age</th>\n",
       "      <th>power</th>\n",
       "    </tr>\n",
       "    <tr>\n",
       "      <th>owner</th>\n",
       "      <th></th>\n",
       "      <th></th>\n",
       "      <th></th>\n",
       "      <th></th>\n",
       "    </tr>\n",
       "  </thead>\n",
       "  <tbody>\n",
       "    <tr>\n",
       "      <th>First Owner</th>\n",
       "      <td>69512.4</td>\n",
       "      <td>26474.5</td>\n",
       "      <td>7.7</td>\n",
       "      <td>211.8</td>\n",
       "    </tr>\n",
       "    <tr>\n",
       "      <th>Fourth Owner Or More</th>\n",
       "      <td>61332.5</td>\n",
       "      <td>29173.3</td>\n",
       "      <td>15.2</td>\n",
       "      <td>264.2</td>\n",
       "    </tr>\n",
       "    <tr>\n",
       "      <th>Second Owner</th>\n",
       "      <td>53552.3</td>\n",
       "      <td>24465.4</td>\n",
       "      <td>12.1</td>\n",
       "      <td>231.3</td>\n",
       "    </tr>\n",
       "    <tr>\n",
       "      <th>Third Owner</th>\n",
       "      <td>81431.9</td>\n",
       "      <td>34606.1</td>\n",
       "      <td>11.2</td>\n",
       "      <td>259.1</td>\n",
       "    </tr>\n",
       "  </tbody>\n",
       "</table>\n",
       "</div>"
      ],
      "text/plain": [
       "                       price  kms_driven  age  power\n",
       "owner                                               \n",
       "First Owner          69512.4     26474.5  7.7  211.8\n",
       "Fourth Owner Or More 61332.5     29173.3 15.2  264.2\n",
       "Second Owner         53552.3     24465.4 12.1  231.3\n",
       "Third Owner          81431.9     34606.1 11.2  259.1"
      ]
     },
     "execution_count": 23,
     "metadata": {},
     "output_type": "execute_result"
    }
   ],
   "source": [
    "pd.options.display.float_format = '{:.1f}'.format\n",
    "group_by_owner = df.groupby('owner')\n",
    "group_by_owner.agg(np.mean)"
   ]
  },
  {
   "cell_type": "code",
   "execution_count": 24,
   "metadata": {},
   "outputs": [
    {
     "data": {
      "text/html": [
       "<div>\n",
       "<style scoped>\n",
       "    .dataframe tbody tr th:only-of-type {\n",
       "        vertical-align: middle;\n",
       "    }\n",
       "\n",
       "    .dataframe tbody tr th {\n",
       "        vertical-align: top;\n",
       "    }\n",
       "\n",
       "    .dataframe thead th {\n",
       "        text-align: right;\n",
       "    }\n",
       "</style>\n",
       "<table border=\"1\" class=\"dataframe\">\n",
       "  <thead>\n",
       "    <tr style=\"text-align: right;\">\n",
       "      <th></th>\n",
       "      <th>bike_name</th>\n",
       "      <th>price</th>\n",
       "      <th>city</th>\n",
       "      <th>kms_driven</th>\n",
       "      <th>age</th>\n",
       "      <th>power</th>\n",
       "      <th>brand</th>\n",
       "    </tr>\n",
       "    <tr>\n",
       "      <th>owner</th>\n",
       "      <th></th>\n",
       "      <th></th>\n",
       "      <th></th>\n",
       "      <th></th>\n",
       "      <th></th>\n",
       "      <th></th>\n",
       "      <th></th>\n",
       "    </tr>\n",
       "  </thead>\n",
       "  <tbody>\n",
       "    <tr>\n",
       "      <th>First Owner</th>\n",
       "      <td>BMW F750 GS 850cc</td>\n",
       "      <td>4400.0</td>\n",
       "      <td>24 Pargana</td>\n",
       "      <td>3.0</td>\n",
       "      <td>1.0</td>\n",
       "      <td>100.0</td>\n",
       "      <td>BMW</td>\n",
       "    </tr>\n",
       "    <tr>\n",
       "      <th>Fourth Owner Or More</th>\n",
       "      <td>Bajaj Avenger 220cc</td>\n",
       "      <td>11000.0</td>\n",
       "      <td>Ahmedabad</td>\n",
       "      <td>2009.0</td>\n",
       "      <td>4.0</td>\n",
       "      <td>100.0</td>\n",
       "      <td>Bajaj</td>\n",
       "    </tr>\n",
       "    <tr>\n",
       "      <th>Second Owner</th>\n",
       "      <td>Bajaj  Pulsar 180cc</td>\n",
       "      <td>7500.0</td>\n",
       "      <td>24 Pargana</td>\n",
       "      <td>1.0</td>\n",
       "      <td>2.0</td>\n",
       "      <td>100.0</td>\n",
       "      <td>Bajaj</td>\n",
       "    </tr>\n",
       "    <tr>\n",
       "      <th>Third Owner</th>\n",
       "      <td>Bajaj Avenger 200cc</td>\n",
       "      <td>7000.0</td>\n",
       "      <td>Ahmedabad</td>\n",
       "      <td>23.0</td>\n",
       "      <td>4.0</td>\n",
       "      <td>100.0</td>\n",
       "      <td>Bajaj</td>\n",
       "    </tr>\n",
       "  </tbody>\n",
       "</table>\n",
       "</div>"
      ],
      "text/plain": [
       "                                bike_name   price        city  kms_driven  \\\n",
       "owner                                                                       \n",
       "First Owner             BMW F750 GS 850cc  4400.0  24 Pargana         3.0   \n",
       "Fourth Owner Or More  Bajaj Avenger 220cc 11000.0   Ahmedabad      2009.0   \n",
       "Second Owner          Bajaj  Pulsar 180cc  7500.0  24 Pargana         1.0   \n",
       "Third Owner           Bajaj Avenger 200cc  7000.0   Ahmedabad        23.0   \n",
       "\n",
       "                      age  power  brand  \n",
       "owner                                    \n",
       "First Owner           1.0  100.0    BMW  \n",
       "Fourth Owner Or More  4.0  100.0  Bajaj  \n",
       "Second Owner          2.0  100.0  Bajaj  \n",
       "Third Owner           4.0  100.0  Bajaj  "
      ]
     },
     "execution_count": 24,
     "metadata": {},
     "output_type": "execute_result"
    }
   ],
   "source": [
    "group_by_owner.agg(min)"
   ]
  },
  {
   "cell_type": "code",
   "execution_count": 25,
   "metadata": {},
   "outputs": [
    {
     "data": {
      "text/html": [
       "<div>\n",
       "<style scoped>\n",
       "    .dataframe tbody tr th:only-of-type {\n",
       "        vertical-align: middle;\n",
       "    }\n",
       "\n",
       "    .dataframe tbody tr th {\n",
       "        vertical-align: top;\n",
       "    }\n",
       "\n",
       "    .dataframe thead th {\n",
       "        text-align: right;\n",
       "    }\n",
       "</style>\n",
       "<table border=\"1\" class=\"dataframe\">\n",
       "  <thead>\n",
       "    <tr style=\"text-align: right;\">\n",
       "      <th></th>\n",
       "      <th>price</th>\n",
       "      <th>age</th>\n",
       "      <th>power</th>\n",
       "    </tr>\n",
       "    <tr>\n",
       "      <th>owner</th>\n",
       "      <th></th>\n",
       "      <th></th>\n",
       "      <th></th>\n",
       "    </tr>\n",
       "  </thead>\n",
       "  <tbody>\n",
       "    <tr>\n",
       "      <th>First Owner</th>\n",
       "      <td>1900000.0</td>\n",
       "      <td>43.0</td>\n",
       "      <td>1800.0</td>\n",
       "    </tr>\n",
       "    <tr>\n",
       "      <th>Fourth Owner Or More</th>\n",
       "      <td>141000.0</td>\n",
       "      <td>37.0</td>\n",
       "      <td>350.0</td>\n",
       "    </tr>\n",
       "    <tr>\n",
       "      <th>Second Owner</th>\n",
       "      <td>1550000.0</td>\n",
       "      <td>63.0</td>\n",
       "      <td>1200.0</td>\n",
       "    </tr>\n",
       "    <tr>\n",
       "      <th>Third Owner</th>\n",
       "      <td>699000.0</td>\n",
       "      <td>43.0</td>\n",
       "      <td>800.0</td>\n",
       "    </tr>\n",
       "  </tbody>\n",
       "</table>\n",
       "</div>"
      ],
      "text/plain": [
       "                         price  age  power\n",
       "owner                                     \n",
       "First Owner          1900000.0 43.0 1800.0\n",
       "Fourth Owner Or More  141000.0 37.0  350.0\n",
       "Second Owner         1550000.0 63.0 1200.0\n",
       "Third Owner           699000.0 43.0  800.0"
      ]
     },
     "execution_count": 25,
     "metadata": {},
     "output_type": "execute_result"
    }
   ],
   "source": [
    "group_by_owner[['price','age', 'power']].max()"
   ]
  },
  {
   "cell_type": "code",
   "execution_count": 16,
   "metadata": {
    "scrolled": true
   },
   "outputs": [
    {
     "data": {
      "text/plain": [
       "(4400.0, 1900000.0)"
      ]
     },
     "execution_count": 16,
     "metadata": {},
     "output_type": "execute_result"
    },
    {
     "data": {
      "image/png": "[encoded data removed]",
      "text/plain": [
       "<Figure size 2160x1440 with 1 Axes>"
      ]
     },
     "metadata": {
      "needs_background": "light"
     },
     "output_type": "display_data"
    }
   ],
   "source": [
    "plt.figure(figsize = (30,20))\n",
    "sns.boxplot(data=df[['price','brand']],x='brand',y='price')\n",
    "plt.ylim(round(df.price.min(),0), round(df.price.max(),0))"
   ]
  },
  {
   "cell_type": "markdown",
   "metadata": {},
   "source": [
    "#### How many brands are in dataset?"
   ]
  },
  {
   "cell_type": "code",
   "execution_count": 26,
   "metadata": {},
   "outputs": [
    {
     "data": {
      "text/plain": [
       "23"
      ]
     },
     "execution_count": 26,
     "metadata": {},
     "output_type": "execute_result"
    }
   ],
   "source": [
    "df['brand'].nunique()"
   ]
  },
  {
   "cell_type": "markdown",
   "metadata": {},
   "source": [
    "#### How many bikes each brand consists?"
   ]
  },
  {
   "cell_type": "code",
   "execution_count": 27,
   "metadata": {},
   "outputs": [
    {
     "data": {
      "text/plain": [
       "{'Bajaj': 11213,\n",
       " 'Hero': 6368,\n",
       " 'Royal Enfield': 4178,\n",
       " 'Yamaha': 3916,\n",
       " 'Honda': 2108,\n",
       " 'Suzuki': 1464,\n",
       " 'TVS': 1247,\n",
       " 'KTM': 1077,\n",
       " 'Harley-Davidson': 737,\n",
       " 'Kawasaki': 79,\n",
       " 'Hyosung': 64,\n",
       " 'Benelli': 56,\n",
       " 'Mahindra': 55,\n",
       " 'Triumph': 26,\n",
       " 'Ducati': 22,\n",
       " 'BMW': 16,\n",
       " 'Jawa': 10,\n",
       " 'MV': 4,\n",
       " 'Indian': 3,\n",
       " 'Ideal': 2,\n",
       " 'Rajdoot': 1,\n",
       " 'LML': 1,\n",
       " 'Yezdi': 1}"
      ]
     },
     "execution_count": 27,
     "metadata": {},
     "output_type": "execute_result"
    }
   ],
   "source": [
    "BB_ratio = df['brand'].value_counts().to_dict()\n",
    "BB_ratio"
   ]
  },
  {
   "cell_type": "markdown",
   "metadata": {},
   "source": [
    "#### Min Max Avg price of every brand?"
   ]
  },
  {
   "cell_type": "code",
   "execution_count": 28,
   "metadata": {
    "scrolled": true
   },
   "outputs": [
    {
     "data": {
      "text/html": [
       "<div>\n",
       "<style scoped>\n",
       "    .dataframe tbody tr th:only-of-type {\n",
       "        vertical-align: middle;\n",
       "    }\n",
       "\n",
       "    .dataframe tbody tr th {\n",
       "        vertical-align: top;\n",
       "    }\n",
       "\n",
       "    .dataframe thead th {\n",
       "        text-align: right;\n",
       "    }\n",
       "</style>\n",
       "<table border=\"1\" class=\"dataframe\">\n",
       "  <thead>\n",
       "    <tr style=\"text-align: right;\">\n",
       "      <th></th>\n",
       "      <th>Brand</th>\n",
       "      <th>Minimum_price</th>\n",
       "      <th>Maximum_price</th>\n",
       "      <th>Average_price</th>\n",
       "    </tr>\n",
       "  </thead>\n",
       "  <tbody>\n",
       "    <tr>\n",
       "      <th>0</th>\n",
       "      <td>Bajaj</td>\n",
       "      <td>6400.0</td>\n",
       "      <td>195000.0</td>\n",
       "      <td>48331.3</td>\n",
       "    </tr>\n",
       "    <tr>\n",
       "      <th>1</th>\n",
       "      <td>Hero</td>\n",
       "      <td>5000.0</td>\n",
       "      <td>104000.0</td>\n",
       "      <td>23829.5</td>\n",
       "    </tr>\n",
       "    <tr>\n",
       "      <th>2</th>\n",
       "      <td>Royal Enfield</td>\n",
       "      <td>33500.0</td>\n",
       "      <td>285000.0</td>\n",
       "      <td>98562.1</td>\n",
       "    </tr>\n",
       "    <tr>\n",
       "      <th>3</th>\n",
       "      <td>Yamaha</td>\n",
       "      <td>9400.0</td>\n",
       "      <td>1550000.0</td>\n",
       "      <td>57069.0</td>\n",
       "    </tr>\n",
       "    <tr>\n",
       "      <th>4</th>\n",
       "      <td>Honda</td>\n",
       "      <td>10000.0</td>\n",
       "      <td>800000.0</td>\n",
       "      <td>59230.5</td>\n",
       "    </tr>\n",
       "    <tr>\n",
       "      <th>5</th>\n",
       "      <td>Suzuki</td>\n",
       "      <td>8000.0</td>\n",
       "      <td>1260000.0</td>\n",
       "      <td>45946.8</td>\n",
       "    </tr>\n",
       "    <tr>\n",
       "      <th>6</th>\n",
       "      <td>TVS</td>\n",
       "      <td>5800.0</td>\n",
       "      <td>224000.0</td>\n",
       "      <td>44299.2</td>\n",
       "    </tr>\n",
       "    <tr>\n",
       "      <th>7</th>\n",
       "      <td>KTM</td>\n",
       "      <td>55000.0</td>\n",
       "      <td>860000.0</td>\n",
       "      <td>174669.6</td>\n",
       "    </tr>\n",
       "    <tr>\n",
       "      <th>8</th>\n",
       "      <td>Harley-Davidson</td>\n",
       "      <td>250000.0</td>\n",
       "      <td>1100000.0</td>\n",
       "      <td>452998.8</td>\n",
       "    </tr>\n",
       "    <tr>\n",
       "      <th>9</th>\n",
       "      <td>Kawasaki</td>\n",
       "      <td>110000.0</td>\n",
       "      <td>1100000.0</td>\n",
       "      <td>411624.6</td>\n",
       "    </tr>\n",
       "    <tr>\n",
       "      <th>10</th>\n",
       "      <td>Hyosung</td>\n",
       "      <td>120000.0</td>\n",
       "      <td>493500.0</td>\n",
       "      <td>249167.8</td>\n",
       "    </tr>\n",
       "    <tr>\n",
       "      <th>11</th>\n",
       "      <td>Benelli</td>\n",
       "      <td>110700.0</td>\n",
       "      <td>785000.0</td>\n",
       "      <td>294200.0</td>\n",
       "    </tr>\n",
       "    <tr>\n",
       "      <th>12</th>\n",
       "      <td>Mahindra</td>\n",
       "      <td>17800.0</td>\n",
       "      <td>175000.0</td>\n",
       "      <td>72507.1</td>\n",
       "    </tr>\n",
       "    <tr>\n",
       "      <th>13</th>\n",
       "      <td>Triumph</td>\n",
       "      <td>500000.0</td>\n",
       "      <td>1300000.0</td>\n",
       "      <td>827423.0</td>\n",
       "    </tr>\n",
       "    <tr>\n",
       "      <th>14</th>\n",
       "      <td>Ducati</td>\n",
       "      <td>380000.0</td>\n",
       "      <td>1500000.0</td>\n",
       "      <td>935545.4</td>\n",
       "    </tr>\n",
       "    <tr>\n",
       "      <th>15</th>\n",
       "      <td>BMW</td>\n",
       "      <td>255000.0</td>\n",
       "      <td>1800000.0</td>\n",
       "      <td>598750.0</td>\n",
       "    </tr>\n",
       "    <tr>\n",
       "      <th>16</th>\n",
       "      <td>Jawa</td>\n",
       "      <td>146000.0</td>\n",
       "      <td>223000.0</td>\n",
       "      <td>185500.0</td>\n",
       "    </tr>\n",
       "    <tr>\n",
       "      <th>17</th>\n",
       "      <td>MV</td>\n",
       "      <td>950000.0</td>\n",
       "      <td>1500000.0</td>\n",
       "      <td>1325000.0</td>\n",
       "    </tr>\n",
       "    <tr>\n",
       "      <th>18</th>\n",
       "      <td>Indian</td>\n",
       "      <td>700000.0</td>\n",
       "      <td>1900000.0</td>\n",
       "      <td>1100000.0</td>\n",
       "    </tr>\n",
       "    <tr>\n",
       "      <th>19</th>\n",
       "      <td>Ideal</td>\n",
       "      <td>100000.0</td>\n",
       "      <td>100000.0</td>\n",
       "      <td>100000.0</td>\n",
       "    </tr>\n",
       "    <tr>\n",
       "      <th>20</th>\n",
       "      <td>Rajdoot</td>\n",
       "      <td>75000.0</td>\n",
       "      <td>75000.0</td>\n",
       "      <td>75000.0</td>\n",
       "    </tr>\n",
       "    <tr>\n",
       "      <th>21</th>\n",
       "      <td>LML</td>\n",
       "      <td>4400.0</td>\n",
       "      <td>4400.0</td>\n",
       "      <td>4400.0</td>\n",
       "    </tr>\n",
       "    <tr>\n",
       "      <th>22</th>\n",
       "      <td>Yezdi</td>\n",
       "      <td>68000.0</td>\n",
       "      <td>68000.0</td>\n",
       "      <td>68000.0</td>\n",
       "    </tr>\n",
       "  </tbody>\n",
       "</table>\n",
       "</div>"
      ],
      "text/plain": [
       "              Brand  Minimum_price  Maximum_price  Average_price\n",
       "0             Bajaj         6400.0       195000.0        48331.3\n",
       "1              Hero         5000.0       104000.0        23829.5\n",
       "2     Royal Enfield        33500.0       285000.0        98562.1\n",
       "3            Yamaha         9400.0      1550000.0        57069.0\n",
       "4             Honda        10000.0       800000.0        59230.5\n",
       "5            Suzuki         8000.0      1260000.0        45946.8\n",
       "6               TVS         5800.0       224000.0        44299.2\n",
       "7               KTM        55000.0       860000.0       174669.6\n",
       "8   Harley-Davidson       250000.0      1100000.0       452998.8\n",
       "9          Kawasaki       110000.0      1100000.0       411624.6\n",
       "10          Hyosung       120000.0       493500.0       249167.8\n",
       "11          Benelli       110700.0       785000.0       294200.0\n",
       "12         Mahindra        17800.0       175000.0        72507.1\n",
       "13          Triumph       500000.0      1300000.0       827423.0\n",
       "14           Ducati       380000.0      1500000.0       935545.4\n",
       "15              BMW       255000.0      1800000.0       598750.0\n",
       "16             Jawa       146000.0       223000.0       185500.0\n",
       "17               MV       950000.0      1500000.0      1325000.0\n",
       "18           Indian       700000.0      1900000.0      1100000.0\n",
       "19            Ideal       100000.0       100000.0       100000.0\n",
       "20          Rajdoot        75000.0        75000.0        75000.0\n",
       "21              LML         4400.0         4400.0         4400.0\n",
       "22            Yezdi        68000.0        68000.0        68000.0"
      ]
     },
     "execution_count": 28,
     "metadata": {},
     "output_type": "execute_result"
    }
   ],
   "source": [
    "brand = []\n",
    "mini = []\n",
    "maxi = []\n",
    "avg = []\n",
    "for b in BB_ratio.keys():\n",
    "    brand.append(b)\n",
    "    mini.append(df[df['brand'] == b].price.min())\n",
    "    maxi.append(df[df['brand'] == b].price.max())\n",
    "    avg.append(round(df[df['brand'] == b].price.mean(),2))\n",
    "\n",
    "brands_df = pd.DataFrame(list(zip(brand,mini,maxi,avg)), columns = ['Brand', 'Minimum_price', 'Maximum_price', 'Average_price'])\n",
    "brands_df"
   ]
  },
  {
   "cell_type": "code",
   "execution_count": 45,
   "metadata": {},
   "outputs": [
    {
     "data": {
      "text/plain": [
       "[<matplotlib.lines.Line2D at 0x251fc62be80>]"
      ]
     },
     "execution_count": 45,
     "metadata": {},
     "output_type": "execute_result"
    },
    {
     "data": {
      "image/png": "[encoded data removed]",
      "text/plain": [
       "<Figure size 2160x1440 with 1 Axes>"
      ]
     },
     "metadata": {
      "needs_background": "light"
     },
     "output_type": "display_data"
    }
   ],
   "source": [
    "plt.figure(figsize = (30,20))\n",
    "plt.plot(brands_df.Brand, brands_df.Minimum_price, color='g')\n",
    "plt.plot(brands_df.Brand, brands_df.Average_price)\n",
    "plt.plot(brands_df.Brand, brands_df.Maximum_price, color='r')\n"
   ]
  },
  {
   "cell_type": "code",
   "execution_count": 29,
   "metadata": {},
   "outputs": [
    {
     "data": {
      "text/html": [
       "<div>\n",
       "<style scoped>\n",
       "    .dataframe tbody tr th:only-of-type {\n",
       "        vertical-align: middle;\n",
       "    }\n",
       "\n",
       "    .dataframe tbody tr th {\n",
       "        vertical-align: top;\n",
       "    }\n",
       "\n",
       "    .dataframe thead th {\n",
       "        text-align: right;\n",
       "    }\n",
       "</style>\n",
       "<table border=\"1\" class=\"dataframe\">\n",
       "  <thead>\n",
       "    <tr style=\"text-align: right;\">\n",
       "      <th></th>\n",
       "      <th>bike_name</th>\n",
       "      <th>owner</th>\n",
       "      <th>city</th>\n",
       "    </tr>\n",
       "    <tr>\n",
       "      <th>brand</th>\n",
       "      <th></th>\n",
       "      <th></th>\n",
       "      <th></th>\n",
       "    </tr>\n",
       "  </thead>\n",
       "  <tbody>\n",
       "    <tr>\n",
       "      <th>BMW</th>\n",
       "      <td>BMW S 1000 XR Pro</td>\n",
       "      <td>First Owner</td>\n",
       "      <td>Pune</td>\n",
       "    </tr>\n",
       "    <tr>\n",
       "      <th>Bajaj</th>\n",
       "      <td>Bajaj XCD 135</td>\n",
       "      <td>Third Owner</td>\n",
       "      <td>Yamuna Nagar</td>\n",
       "    </tr>\n",
       "    <tr>\n",
       "      <th>Benelli</th>\n",
       "      <td>Benelli TRK 502X</td>\n",
       "      <td>Second Owner</td>\n",
       "      <td>Pune</td>\n",
       "    </tr>\n",
       "    <tr>\n",
       "      <th>Ducati</th>\n",
       "      <td>Ducati XDiavel 1262CC S</td>\n",
       "      <td>Second Owner</td>\n",
       "      <td>Pune</td>\n",
       "    </tr>\n",
       "    <tr>\n",
       "      <th>Harley-Davidson</th>\n",
       "      <td>Harley-Davidson XG750 750cc</td>\n",
       "      <td>Third Owner</td>\n",
       "      <td>Tiruvallur</td>\n",
       "    </tr>\n",
       "    <tr>\n",
       "      <th>Hero</th>\n",
       "      <td>Hero i Smart 125cc</td>\n",
       "      <td>Third Owner</td>\n",
       "      <td>Wardha</td>\n",
       "    </tr>\n",
       "    <tr>\n",
       "      <th>Honda</th>\n",
       "      <td>Honda X-Blade 160cc</td>\n",
       "      <td>Third Owner</td>\n",
       "      <td>Visakhapatnam</td>\n",
       "    </tr>\n",
       "    <tr>\n",
       "      <th>Hyosung</th>\n",
       "      <td>Hyosung GT650R</td>\n",
       "      <td>Third Owner</td>\n",
       "      <td>Thane</td>\n",
       "    </tr>\n",
       "    <tr>\n",
       "      <th>Ideal</th>\n",
       "      <td>Ideal Jawa Yezdi CL-II 250 cc</td>\n",
       "      <td>Second Owner</td>\n",
       "      <td>Thiruvananthapuram</td>\n",
       "    </tr>\n",
       "    <tr>\n",
       "      <th>Indian</th>\n",
       "      <td>Indian Scout Bobber 1130cc</td>\n",
       "      <td>First Owner</td>\n",
       "      <td>Nagpur</td>\n",
       "    </tr>\n",
       "    <tr>\n",
       "      <th>Jawa</th>\n",
       "      <td>Jawa Standard 295CC</td>\n",
       "      <td>First Owner</td>\n",
       "      <td>Mumbai</td>\n",
       "    </tr>\n",
       "    <tr>\n",
       "      <th>KTM</th>\n",
       "      <td>KTM RC 390cc</td>\n",
       "      <td>Third Owner</td>\n",
       "      <td>Vizianagaram</td>\n",
       "    </tr>\n",
       "    <tr>\n",
       "      <th>Kawasaki</th>\n",
       "      <td>Kawasaki Z900</td>\n",
       "      <td>Third Owner</td>\n",
       "      <td>Visakhapatnam</td>\n",
       "    </tr>\n",
       "    <tr>\n",
       "      <th>LML</th>\n",
       "      <td>LML Freedom DX 110cc</td>\n",
       "      <td>First Owner</td>\n",
       "      <td>Godhara</td>\n",
       "    </tr>\n",
       "    <tr>\n",
       "      <th>MV</th>\n",
       "      <td>MV Agusta F3 800cc</td>\n",
       "      <td>First Owner</td>\n",
       "      <td>Hubli</td>\n",
       "    </tr>\n",
       "    <tr>\n",
       "      <th>Mahindra</th>\n",
       "      <td>Mahindra Pantero 110cc</td>\n",
       "      <td>Third Owner</td>\n",
       "      <td>Vadodara</td>\n",
       "    </tr>\n",
       "    <tr>\n",
       "      <th>Rajdoot</th>\n",
       "      <td>Rajdoot GTX 175cc</td>\n",
       "      <td>Second Owner</td>\n",
       "      <td>Delhi</td>\n",
       "    </tr>\n",
       "    <tr>\n",
       "      <th>Royal Enfield</th>\n",
       "      <td>Royal Enfield‎ Bullet 350cc</td>\n",
       "      <td>Third Owner</td>\n",
       "      <td>Warangal</td>\n",
       "    </tr>\n",
       "    <tr>\n",
       "      <th>Suzuki</th>\n",
       "      <td>Suzuki Zeus 125cc</td>\n",
       "      <td>Third Owner</td>\n",
       "      <td>Wardha</td>\n",
       "    </tr>\n",
       "    <tr>\n",
       "      <th>TVS</th>\n",
       "      <td>TVS Victor GX 110cc</td>\n",
       "      <td>Third Owner</td>\n",
       "      <td>Visakhapatnam</td>\n",
       "    </tr>\n",
       "    <tr>\n",
       "      <th>Triumph</th>\n",
       "      <td>Triumph Tiger 800 XRX</td>\n",
       "      <td>Third Owner</td>\n",
       "      <td>Udaipur</td>\n",
       "    </tr>\n",
       "    <tr>\n",
       "      <th>Yamaha</th>\n",
       "      <td>Yamaha YZF-R3 320cc ABS</td>\n",
       "      <td>Third Owner</td>\n",
       "      <td>Zirakpur</td>\n",
       "    </tr>\n",
       "    <tr>\n",
       "      <th>Yezdi</th>\n",
       "      <td>Yezdi Classic 250cc</td>\n",
       "      <td>Third Owner</td>\n",
       "      <td>Ahmedabad</td>\n",
       "    </tr>\n",
       "  </tbody>\n",
       "</table>\n",
       "</div>"
      ],
      "text/plain": [
       "                                     bike_name         owner  \\\n",
       "brand                                                          \n",
       "BMW                          BMW S 1000 XR Pro   First Owner   \n",
       "Bajaj                            Bajaj XCD 135   Third Owner   \n",
       "Benelli                       Benelli TRK 502X  Second Owner   \n",
       "Ducati                 Ducati XDiavel 1262CC S  Second Owner   \n",
       "Harley-Davidson    Harley-Davidson XG750 750cc   Third Owner   \n",
       "Hero                        Hero i Smart 125cc   Third Owner   \n",
       "Honda                      Honda X-Blade 160cc   Third Owner   \n",
       "Hyosung                         Hyosung GT650R   Third Owner   \n",
       "Ideal            Ideal Jawa Yezdi CL-II 250 cc  Second Owner   \n",
       "Indian              Indian Scout Bobber 1130cc   First Owner   \n",
       "Jawa                       Jawa Standard 295CC   First Owner   \n",
       "KTM                               KTM RC 390cc   Third Owner   \n",
       "Kawasaki                         Kawasaki Z900   Third Owner   \n",
       "LML                       LML Freedom DX 110cc   First Owner   \n",
       "MV                          MV Agusta F3 800cc   First Owner   \n",
       "Mahindra                Mahindra Pantero 110cc   Third Owner   \n",
       "Rajdoot                      Rajdoot GTX 175cc  Second Owner   \n",
       "Royal Enfield      Royal Enfield‎ Bullet 350cc   Third Owner   \n",
       "Suzuki                       Suzuki Zeus 125cc   Third Owner   \n",
       "TVS                        TVS Victor GX 110cc   Third Owner   \n",
       "Triumph                  Triumph Tiger 800 XRX   Third Owner   \n",
       "Yamaha                 Yamaha YZF-R3 320cc ABS   Third Owner   \n",
       "Yezdi                      Yezdi Classic 250cc   Third Owner   \n",
       "\n",
       "                               city  \n",
       "brand                                \n",
       "BMW                            Pune  \n",
       "Bajaj                  Yamuna Nagar  \n",
       "Benelli                        Pune  \n",
       "Ducati                         Pune  \n",
       "Harley-Davidson          Tiruvallur  \n",
       "Hero                         Wardha  \n",
       "Honda                 Visakhapatnam  \n",
       "Hyosung                       Thane  \n",
       "Ideal            Thiruvananthapuram  \n",
       "Indian                       Nagpur  \n",
       "Jawa                         Mumbai  \n",
       "KTM                    Vizianagaram  \n",
       "Kawasaki              Visakhapatnam  \n",
       "LML                         Godhara  \n",
       "MV                            Hubli  \n",
       "Mahindra                   Vadodara  \n",
       "Rajdoot                       Delhi  \n",
       "Royal Enfield              Warangal  \n",
       "Suzuki                       Wardha  \n",
       "TVS                   Visakhapatnam  \n",
       "Triumph                     Udaipur  \n",
       "Yamaha                     Zirakpur  \n",
       "Yezdi                     Ahmedabad  "
      ]
     },
     "execution_count": 29,
     "metadata": {},
     "output_type": "execute_result"
    }
   ],
   "source": [
    "group_by_brand = df.groupby('brand')\n",
    "group_by_brand[['bike_name','owner','city']].max()"
   ]
  },
  {
   "cell_type": "code",
   "execution_count": 30,
   "metadata": {
    "scrolled": true
   },
   "outputs": [
    {
     "data": {
      "text/html": [
       "<div>\n",
       "<style scoped>\n",
       "    .dataframe tbody tr th:only-of-type {\n",
       "        vertical-align: middle;\n",
       "    }\n",
       "\n",
       "    .dataframe tbody tr th {\n",
       "        vertical-align: top;\n",
       "    }\n",
       "\n",
       "    .dataframe thead th {\n",
       "        text-align: right;\n",
       "    }\n",
       "</style>\n",
       "<table border=\"1\" class=\"dataframe\">\n",
       "  <thead>\n",
       "    <tr style=\"text-align: right;\">\n",
       "      <th></th>\n",
       "      <th>bike_name</th>\n",
       "      <th>price</th>\n",
       "      <th>city</th>\n",
       "      <th>kms_driven</th>\n",
       "      <th>owner</th>\n",
       "      <th>age</th>\n",
       "      <th>power</th>\n",
       "      <th>brand</th>\n",
       "    </tr>\n",
       "  </thead>\n",
       "  <tbody>\n",
       "    <tr>\n",
       "      <th>0</th>\n",
       "      <td>TVS Star City Plus Dual Tone 110cc</td>\n",
       "      <td>35000.0</td>\n",
       "      <td>Ahmedabad</td>\n",
       "      <td>17654.0</td>\n",
       "      <td>First Owner</td>\n",
       "      <td>3.0</td>\n",
       "      <td>110.0</td>\n",
       "      <td>TVS</td>\n",
       "    </tr>\n",
       "    <tr>\n",
       "      <th>1</th>\n",
       "      <td>Royal Enfield Classic 350cc</td>\n",
       "      <td>119900.0</td>\n",
       "      <td>Delhi</td>\n",
       "      <td>11000.0</td>\n",
       "      <td>First Owner</td>\n",
       "      <td>4.0</td>\n",
       "      <td>350.0</td>\n",
       "      <td>Royal Enfield</td>\n",
       "    </tr>\n",
       "    <tr>\n",
       "      <th>2</th>\n",
       "      <td>Triumph Daytona 675R</td>\n",
       "      <td>600000.0</td>\n",
       "      <td>Delhi</td>\n",
       "      <td>110.0</td>\n",
       "      <td>First Owner</td>\n",
       "      <td>8.0</td>\n",
       "      <td>675.0</td>\n",
       "      <td>Triumph</td>\n",
       "    </tr>\n",
       "    <tr>\n",
       "      <th>3</th>\n",
       "      <td>TVS Apache RTR 180cc</td>\n",
       "      <td>65000.0</td>\n",
       "      <td>Bangalore</td>\n",
       "      <td>16329.0</td>\n",
       "      <td>First Owner</td>\n",
       "      <td>4.0</td>\n",
       "      <td>180.0</td>\n",
       "      <td>TVS</td>\n",
       "    </tr>\n",
       "    <tr>\n",
       "      <th>4</th>\n",
       "      <td>Yamaha FZ S V 2.0 150cc-Ltd. Edition</td>\n",
       "      <td>80000.0</td>\n",
       "      <td>Bangalore</td>\n",
       "      <td>10000.0</td>\n",
       "      <td>First Owner</td>\n",
       "      <td>3.0</td>\n",
       "      <td>150.0</td>\n",
       "      <td>Yamaha</td>\n",
       "    </tr>\n",
       "  </tbody>\n",
       "</table>\n",
       "</div>"
      ],
      "text/plain": [
       "                              bike_name    price       city  kms_driven  \\\n",
       "0    TVS Star City Plus Dual Tone 110cc  35000.0  Ahmedabad     17654.0   \n",
       "1           Royal Enfield Classic 350cc 119900.0      Delhi     11000.0   \n",
       "2                  Triumph Daytona 675R 600000.0      Delhi       110.0   \n",
       "3                  TVS Apache RTR 180cc  65000.0  Bangalore     16329.0   \n",
       "4  Yamaha FZ S V 2.0 150cc-Ltd. Edition  80000.0  Bangalore     10000.0   \n",
       "\n",
       "         owner  age  power          brand  \n",
       "0  First Owner  3.0  110.0            TVS  \n",
       "1  First Owner  4.0  350.0  Royal Enfield  \n",
       "2  First Owner  8.0  675.0        Triumph  \n",
       "3  First Owner  4.0  180.0            TVS  \n",
       "4  First Owner  3.0  150.0         Yamaha  "
      ]
     },
     "execution_count": 30,
     "metadata": {},
     "output_type": "execute_result"
    }
   ],
   "source": [
    "df.head()"
   ]
  },
  {
   "cell_type": "code",
   "execution_count": 31,
   "metadata": {
    "scrolled": true
   },
   "outputs": [
    {
     "data": {
      "text/plain": [
       "4.0     5048\n",
       "8.0     3806\n",
       "6.0     3573\n",
       "5.0     3390\n",
       "9.0     3072\n",
       "7.0     2791\n",
       "3.0     1590\n",
       "11.0    1572\n",
       "12.0    1463\n",
       "15.0    1321\n",
       "16.0    1297\n",
       "10.0    1083\n",
       "13.0     782\n",
       "14.0     739\n",
       "19.0     614\n",
       "2.0      385\n",
       "17.0      41\n",
       "18.0      25\n",
       "1.0       10\n",
       "24.0       8\n",
       "20.0       7\n",
       "43.0       4\n",
       "37.0       3\n",
       "39.0       3\n",
       "27.0       3\n",
       "41.0       3\n",
       "23.0       3\n",
       "25.0       3\n",
       "38.0       2\n",
       "63.0       2\n",
       "30.0       1\n",
       "34.0       1\n",
       "31.0       1\n",
       "22.0       1\n",
       "26.0       1\n",
       "Name: age, dtype: int64"
      ]
     },
     "execution_count": 31,
     "metadata": {},
     "output_type": "execute_result"
    }
   ],
   "source": [
    "df['age'].value_counts(sort='asc')"
   ]
  },
  {
   "cell_type": "markdown",
   "metadata": {},
   "source": [
    "#### Most of the bikes are 3-9 years old"
   ]
  },
  {
   "cell_type": "markdown",
   "metadata": {},
   "source": [
    "#### Does older(>20years) bikes cost more than new bikes(<5years) ?"
   ]
  },
  {
   "cell_type": "code",
   "execution_count": 32,
   "metadata": {},
   "outputs": [
    {
     "name": "stdout",
     "output_type": "stream",
     "text": [
      "Average price of bikes less than 5 year  149477\n",
      "Average price of bikes greater than 20 year  80977\n"
     ]
    }
   ],
   "source": [
    "print(\"Average price of bikes less than 5 year \",round(df[df[\"age\"]< 5].price.mean()) )\n",
    "print(\"Average price of bikes greater than 20 year \",round(df[df[\"age\"]> 20].price.mean()) )"
   ]
  },
  {
   "cell_type": "code",
   "execution_count": 33,
   "metadata": {},
   "outputs": [
    {
     "data": {
      "text/plain": [
       "150.0     8836\n",
       "100.0     5047\n",
       "220.0     4833\n",
       "350.0     3706\n",
       "125.0     2492\n",
       "200.0     1357\n",
       "160.0      969\n",
       "180.0      829\n",
       "390.0      829\n",
       "250.0      826\n",
       "400.0      729\n",
       "750.0      701\n",
       "110.0      432\n",
       "500.0      369\n",
       "135.0      137\n",
       "223.0       99\n",
       "650.0       82\n",
       "410.0       68\n",
       "300.0       61\n",
       "310.0       44\n",
       "883.0       30\n",
       "535.0       23\n",
       "1000.0      20\n",
       "1200.0      14\n",
       "800.0       13\n",
       "600.0       11\n",
       "295.0       10\n",
       "320.0        9\n",
       "1300.0       9\n",
       "900.0        8\n",
       "302.0        7\n",
       "765.0        5\n",
       "797.0        5\n",
       "675.0        4\n",
       "959.0        4\n",
       "865.0        3\n",
       "149.0        3\n",
       "1130.0       3\n",
       "502.0        2\n",
       "899.0        2\n",
       "850.0        2\n",
       "1050.0       2\n",
       "1262.0       2\n",
       "796.0        2\n",
       "1090.0       1\n",
       "1198.0       1\n",
       "175.0        1\n",
       "1700.0       1\n",
       "1100.0       1\n",
       "1800.0       1\n",
       "1299.0       1\n",
       "821.0        1\n",
       "107.0        1\n",
       "Name: power, dtype: int64"
      ]
     },
     "execution_count": 33,
     "metadata": {},
     "output_type": "execute_result"
    }
   ],
   "source": [
    "df['power'].value_counts()"
   ]
  },
  {
   "cell_type": "code",
   "execution_count": 34,
   "metadata": {},
   "outputs": [
    {
     "data": {
      "text/plain": [
       "2949"
      ]
     },
     "execution_count": 34,
     "metadata": {},
     "output_type": "execute_result"
    }
   ],
   "source": [
    "df[df['power'] > 350].shape[0]"
   ]
  },
  {
   "cell_type": "markdown",
   "metadata": {},
   "source": [
    "# City\n"
   ]
  },
  {
   "cell_type": "code",
   "execution_count": 35,
   "metadata": {},
   "outputs": [
    {
     "data": {
      "text/plain": [
       "285"
      ]
     },
     "execution_count": 35,
     "metadata": {},
     "output_type": "execute_result"
    }
   ],
   "source": [
    "(df['city'].value_counts()>1).sum()"
   ]
  },
  {
   "cell_type": "markdown",
   "metadata": {},
   "source": [
    "#### observation:- out of 443 cities only 285 cities having more than 1 listing"
   ]
  },
  {
   "cell_type": "code",
   "execution_count": 36,
   "metadata": {},
   "outputs": [
    {
     "data": {
      "text/plain": [
       "count     32648\n",
       "unique      443\n",
       "top       Delhi\n",
       "freq       7318\n",
       "Name: city, dtype: object"
      ]
     },
     "execution_count": 36,
     "metadata": {},
     "output_type": "execute_result"
    }
   ],
   "source": [
    "df['city'].describe()"
   ]
  },
  {
   "cell_type": "markdown",
   "metadata": {},
   "source": [
    "#### Observation:- More than 7000 listings are from Delhi"
   ]
  },
  {
   "cell_type": "markdown",
   "metadata": {},
   "source": [
    "#### Top 5 cities with most listings"
   ]
  },
  {
   "cell_type": "code",
   "execution_count": 37,
   "metadata": {},
   "outputs": [
    {
     "data": {
      "text/plain": [
       "Delhi        7318\n",
       "Bangalore    2723\n",
       "Mumbai       2591\n",
       "Hyderabad    2160\n",
       "Pune         1724\n",
       "Name: city, dtype: int64"
      ]
     },
     "execution_count": 37,
     "metadata": {},
     "output_type": "execute_result"
    }
   ],
   "source": [
    "df['city'].value_counts()[:5]"
   ]
  },
  {
   "cell_type": "markdown",
   "metadata": {},
   "source": [
    "#### cities with less than 10 listing"
   ]
  },
  {
   "cell_type": "code",
   "execution_count": 38,
   "metadata": {},
   "outputs": [
    {
     "name": "stdout",
     "output_type": "stream",
     "text": [
      "cities with more than 10 listings \n",
      " ['Delhi', 'Bangalore', 'Mumbai', 'Hyderabad', 'Pune', 'Chennai', 'Lucknow', 'Jaipur', 'Ghaziabad', 'Ahmedabad', 'Noida', 'Bhopal', 'Gautam Buddha Nagar', 'Kanchipuram', 'Jodhpur', 'Karnal', 'Rupnagar', 'Allahabad', 'Gurgaon', 'Godhara', 'Faridabad', 'Kadapa', 'Perumbavoor', 'Ludhiana', 'Kolkata', 'Thane', 'Jhansi', 'Vadodara', 'Surat', 'Jalandhar', 'Chandigarh', 'Rajkot', 'Indore', 'Dehradun', 'Patna', 'Navi Mumbai', 'Nagpur', 'Coimbatore', 'Tiruvallur', 'Guwahati', 'Bhubaneshwar', 'Howrah', 'Kanpur', 'Aurangabad', 'Cuttack', 'Visakhapatnam', 'Alibag', 'Alipore', 'Kalyan', 'Nashik', 'Ranchi', 'Udaipur', 'Rohtak', 'Agra', 'Kota', 'Gorakhpur', '24 Pargana', 'Ernakulam', 'Gandhinagar', 'Meerut']\n",
      "31696  listings\n",
      "-----------------------------------------------------------------------------------------------------------------------------\n",
      "cities with less than 10 listings \n",
      " ['Sirsa', 'Varanasi', 'Patiala', 'Sonepat', 'Jabalpur', 'Gwalior', 'Kolhapur', 'Nadiad', 'Ambala', 'Trivandrum', 'Pondicherry', 'Hissar', 'Mohali', 'Panchkula', 'Mysore', 'Saharanpur', 'Bardhaman', 'Solapur', 'Palakkad', 'Durg', 'Durgapur', 'Bhatinda', 'Anand', 'Amritsar', 'Ahmednagar', 'Ajmer', 'Moradabad', 'Kharar', 'Dakshina Kannada', 'Jammu', 'Dharwar', 'Siliguri', 'Kanpur Nagar', 'Hooghly', 'Thiruvallur', 'Bhiwadi', 'Salem', 'Virar', 'Alwar', 'Chaksu', 'Raipur', 'Jamnagar', 'Adalaj', 'Sibsagar', 'Sonipat', 'Ranga Reddy', 'Hosur', 'Satara', 'Unnao', 'Bagalkot', 'Aligarh', 'Chinchwad', 'Haldwani', 'Puri', 'Jhajjar', 'Bharuch', 'Kottayam', 'Mandi Dabwali', 'Hamirpur(hp)', 'Goa-panaji', 'Krishna', 'Thrissur', 'Bankura', 'Silchar', 'Mangalore', 'Mehsana', 'Raigarh(mh)', 'Wardha', 'Bally', 'Bilaspur', 'Asansol', 'Palwal', 'Amraoti', 'Bareilly', 'Belgaum', 'Muzaffarpur', 'Dhanbad', 'Pali', 'Una', 'Hubli', 'Purnia', 'Panvel', 'Guntur', 'Navsari', 'Latur', 'Rewari', 'Nagaon', 'Vapi', 'Chitradurga', 'Poonamallee', 'Gohana', 'Barasat', 'Kurukshetra', 'Virudhunagar', 'Bellary', 'Palanpur', 'Nellore', 'Sholapur', 'Anantapur', 'Solan', 'Mathura', 'Bijnor', 'Karim Nagar', 'Samastipur', 'Sundargarh', 'Chenani', 'Azamgarh', 'Kullu', 'Anjar', 'Baripara', 'Adyar', 'Rudrapur', 'Ganganagar', 'Gandhidham', 'Tirunelveli', 'Ankleshwar', 'Vasai', 'Jind', 'Roorkee', 'Bikaner', 'Puttur', 'Thiruvananthapuram', 'Bhiwani', 'Amravati', 'Dadri', 'Margao', 'Vellore', 'Ratnagiri', 'Khalilabad', 'Jhalawar', 'Nanjangud', 'Batala', 'Nabha', 'Dharwad', 'Bhiwandi', 'Nizamabad', 'Jorhat', 'Khandwa', 'Tikamgarh', 'Shillong', 'Aquem', 'Udhampur', 'Panipat', 'Gangaikondan', 'Sambalpur', 'Warangal', 'Pinjore', 'Nazira', 'Budhlada', 'Gadwal', 'Honavar', 'Abohar', 'Jalaun', 'Kochi', 'Indi', 'Rajouri', 'Tiruchirappalli', 'Goregaon', 'Srinagar', 'Dhubri', 'Secunderabad', 'Bolpur', 'Kurnool', 'Ambikapur', 'Ghazipur', 'Sangareddy', 'Karwar', 'Namakkal', 'Dharamasala', 'Ujjain', 'Burdwan', 'Bulandshahr', 'Motihari', 'Madurai', 'Balaghat', 'Udaipurwati', 'Barabanki', 'Farukhabad', 'Jamshedpur', 'Rangpo', 'Erode', 'Churu', 'Kollam', 'Chakan', 'Baghpat', 'Nalagarh', 'Vijayawada', 'Berhampur', 'Darbhanga', 'Kharagpur', 'Hanumangarh', 'Sri Ganganagar', 'Chinsurah', 'Jobner', 'Suri', 'Sheikhpura', 'Chhatarpur', 'Katihar', 'Bahadurgarh', 'Gondia', 'Yamuna Nagar', 'Bidar', 'Ranip', 'Deoghar', 'Arrah', 'Palamu', 'Gurdaspur', 'Ranoli', 'Mandi', 'Bodhan', 'Dwarka', 'Raiwala', 'Satna', 'Lansdowne', 'Badarpur', 'Valsad', 'Bhawani Mandi', 'Narnaul', 'Falakata', 'Ferozepur', 'Porbandar', 'Kasargode', 'Medak', 'Jaisalmer', 'Hoshiarpur', 'Bijapur', 'Sirsi', 'Yemmiganur', 'Bokaro', 'Alappuzha', 'Jhunjhunu', 'Shimoga', 'Dhamtari', 'Krishnagar', 'Hospet', 'Osmanabad', 'Palai', 'Vandalur', 'Raiganj', 'Davanagere', 'Jaunpur', 'Thangadh', 'Hamirpur', 'Lonavala', 'Hisar', 'Kathua', 'Deesa', 'Berhampore', 'Anantnag', 'Tiruppur', 'Gadchiroli', 'Gangaghat', 'Bundi', 'Bhuj', 'Vastral', 'Phagwara', 'Kheda', 'Swaimadhopur', 'Baloda', 'Bhilai Nagar', 'Bhubaneswar', 'Aluva', 'Dongargaon', 'Dharmapuri', 'Akot', 'Uran', 'Begusarai', 'Deoria', 'Silvasa', 'Challakere', 'Kachchh', 'Nagaur', 'Seppa', 'Anekal', 'Mansa', 'Kadi', 'Nanded', 'Chhindwara', 'Farrukhabad', 'Zirakpur', 'Bhavnagar', 'Kartarpur', 'Sanand', 'Tumkur', 'Kendua', 'Mubarakpur', 'Pratapgarh', 'Vizianagaram', 'Deolali', 'Sangli', 'Tiruverkadu', 'Buxar', 'Haridwar', 'Muvattupuzha', 'Simdega', 'Singhbhum', 'Pathankot', 'Katni', 'Khedbrahma', 'Dungarpur', 'Godavari', 'Muktsar', 'Herbertpur', 'Ramanagar', 'Murad Nagar', 'Chandrapur', 'Jamtara', 'Uppidamangalam', 'Idukki', 'Shivpuri', 'Arkalgud', 'Baran', 'Balrampur', 'Nawanshahr', 'Malout', 'Mettur', 'Kaithal', 'Vidisha', 'Mandya', 'Bhilwara', 'Banka', 'Banki', 'Jajpur', 'Adoni', 'Rajnandgaon', 'Basti', 'Siwan', 'Dadra & Nagar Haveli', 'Koppal', 'Chatrapur', 'Bharatpur', 'Gangtok', 'Rajahmundry', 'Jatani', 'Thanjavur', 'Ganaur', 'Jamalpur', 'Jagdalpur', 'Sant Kabir Nagar', 'Kotdwar', 'Parola', 'Nayagarh', 'Jalgaon', 'Udupi', 'Junagadh', 'Dibrugarh', 'Faridkot', 'Naraingarh', 'Viramgam', 'Mughalsarai', 'Manali', 'Sitapur', 'Betul', 'Qadian', 'Sangrur', 'Cannanore (kannur)', 'Jhumri Tilaiya', 'Naihati', 'Dharmavaram', 'Chikamaglur', 'Gadarpur', 'Bargarh', 'Dhariawad', 'Rasra', 'Uluberia', 'Kanyakumari', 'Morbi', 'Sultanpur', 'Bihar Shariff', 'Kolar', 'Bahadurpur', 'Muzaffarnagar', 'Calicut', 'Raigarh', 'Chikkaballapur', 'Kasba', 'Marandahalli', 'Badaun', 'Surendranagar', 'Khandela', 'Mohammadabad', 'Shimla', 'Sidhi']\n",
      "952  listings\n"
     ]
    }
   ],
   "source": [
    "cities_dic = df['city'].value_counts().to_dict()\n",
    "cities = {}\n",
    "g10_cities = []\n",
    "l10_cities = []\n",
    "g_sum = 0\n",
    "l_sum = 0\n",
    "for city, freq in cities_dic.items():\n",
    "    if freq > 10:\n",
    "        g_sum += freq\n",
    "        g10_cities.append(city)\n",
    "        cities[city] = freq\n",
    "    else:\n",
    "        l_sum += freq\n",
    "        l10_cities.append(city)\n",
    "        \n",
    "\n",
    "print(\"cities with more than 10 listings \\n\", g10_cities)\n",
    "print(g_sum, \" listings\")\n",
    "print('-'*125)\n",
    "print(\"cities with less than 10 listings \\n\", l10_cities)\n",
    "print(l_sum, \" listings\")\n"
   ]
  },
  {
   "cell_type": "markdown",
   "metadata": {},
   "source": [
    "#### There are 60 cities with greater than 10 listings \n",
    "#### g10_cities contain the list of cities with greater than 10 listings"
   ]
  },
  {
   "cell_type": "code",
   "execution_count": 39,
   "metadata": {},
   "outputs": [
    {
     "data": {
      "text/plain": [
       "60"
      ]
     },
     "execution_count": 39,
     "metadata": {},
     "output_type": "execute_result"
    }
   ],
   "source": [
    "len(g10_cities)"
   ]
  },
  {
   "cell_type": "markdown",
   "metadata": {},
   "source": [
    "#### bike_name"
   ]
  },
  {
   "cell_type": "code",
   "execution_count": 40,
   "metadata": {},
   "outputs": [
    {
     "name": "stdout",
     "output_type": "stream",
     "text": [
      "cities with more than 10 listings \n",
      " ['Bajaj Pulsar 150cc', 'Bajaj Avenger Street 220', 'Bajaj Avenger 220cc', 'Royal Enfield Classic 350cc', 'Hero Passion Pro 100cc', 'Hero Passion 100cc', 'Royal Enfield Thunderbird 350cc', 'Yamaha YZF-R15 2.0 150cc', 'Royal Enfield Bullet Electra 350cc', 'Bajaj Pulsar NS200', 'KTM RC 390cc', 'Bajaj Dominar 400 ABS', 'Hero CD Deluxe 100cc', 'Bajaj Platina 100cc', 'Hero CBZ Xtreme 150cc', 'Honda CB Trigger 150cc', 'TVS Apache RTR 180cc', 'Yamaha Fazer 150cc', 'Yamaha FZ 150cc', 'Hero Super Splendor 125cc', 'Honda CB Hornet 160R STD', 'Harley-Davidson Street 750 ABS', 'Hero Hunk Rear Disc 150cc', 'Suzuki Slingshot Plus 125cc', 'Yamaha SZ-RR 150cc', 'Yamaha Fazer 25 250cc', 'Suzuki Zeus 125cc', 'Hero Splendor Plus 100cc', 'Honda CB Shine 125cc', 'Bajaj V15 150cc', 'Bajaj Avenger Street 150', 'TVS Apache RTR 160cc', 'Yamaha FZs 150cc', 'KTM Duke 390cc', 'Bajaj Pulsar RS200 ABS', 'KTM RC 200cc', 'Bajaj Discover 125cc', 'Royal Enfield Thunderbird 500cc', 'Hero HF Deluxe 100cc', 'Bajaj Pulsar 220cc', 'Bajaj Pulsar 180cc', 'KTM Duke 200cc', 'Royal Enfield Classic 500cc', 'Bajaj Pulsar RS200', 'Bajaj CT 100 100cc', 'Hero Passion Plus 100cc', 'Bajaj Discover 100cc', 'Bajaj Pulsar 135LS', 'Honda CBF Stunner 125cc', 'Bajaj Avenger Cruise 220', 'Honda CBR 150R 150cc', 'Honda CB Unicorn 150cc', 'Yamaha YZF-R15 150cc', 'Bajaj Pulsar 220F', 'Harley-Davidson Street 750', 'Hero Splendor Pro 100cc', 'Suzuki Gixxer 150cc', 'Royal Enfield Bullet Twinspark 350cc', 'Royal Enfield Bullet 350cc', 'Honda Dream Yuga 110cc', 'Hero Karizma R 223cc', 'TVS Sport 100cc', 'Royal Enfield Classic Desert Storm 500cc', 'Yamaha FZ16 150cc', 'Hero Passion Xpro 110cc', 'Royal Enfield Himalayan 410cc', 'Royal Enfield Bullet Electra Twinspark 350cc', 'Bajaj Discover 135cc', 'Yamaha FZ S V 2.0 150cc', 'Hero Splendor iSmart 110cc', 'Honda CBR 250R', 'Yamaha YZF-R15 V3 150cc', 'TVS Apache RTR 200 4V Carburetor', 'Yamaha FZ25 250cc', 'Honda CB Twister 110cc', 'Hero Hunk 150cc', 'Bajaj Pulsar AS150', 'TVS Star City Plus 110cc', 'Hero Karizma ZMR 223cc', 'Hero Glamour 125cc', 'Suzuki Gixxer SF 150cc', 'Bajaj Discover 125ST', 'Yamaha SZR 150cc', 'TVS Star City 110cc', 'Bajaj Platina  Alloy ES-100cc', 'Honda CB Hornet 160R CBS', 'Royal Enfield Standard 350cc', 'Hero Splendor 100cc', 'Bajaj Pulsar 200 NS 200cc', 'TVS Apache RR310', 'Bajaj Discover 100M', 'Bajaj Pulsar AS200', 'Royal Enfield Electra 350cc', 'Royal Enfield Classic Chrome 500cc', 'Hero Ignitor 125cc', 'Honda Livo 110cc', 'Suzuki Intruder 150cc', 'Bajaj Dominar 400', 'Royal Enfield\\u200e Bullet 350cc', 'Harley-Davidson Iron 883', 'KTM Duke 250cc', 'Hyosung GT250R', 'Bajaj  Pulsar 180cc', 'Mahindra Centuro 110cc', 'Hero Splendor iSmart 100cc', 'Yamaha FZ V 2.0 150cc', 'Royal Enfield Classic Gunmetal Grey 350cc', 'Bajaj Discover 150cc', 'Hero Passion Pro i3S Alloy 100cc', 'TVS Star Sport 100cc', 'Royal Enfield Continental GT 535cc', 'Honda CBR 250R ABS', 'Kawasaki Ninja 650cc', 'Bajaj Pulsar NS160', 'TVS Apache RTR 180cc ABS', 'Benelli TNT 300', 'Royal Enfield Standard 500cc', 'Yamaha YZF-R15 S 150cc', 'TVS Apache RTR 160 4V Disc', 'TVS Apache RTR 200 4V Fi', 'Bajaj Discover 125M', 'Mahindra Mojo 300cc', 'Bajaj V12 125cc', 'Bajaj Discover 110cc', 'Bajaj Discover 150F', 'Hero Splendor Plus Self Alloy 100cc', 'Honda CB Unicorn 160', 'Honda CD 110 Dream', 'Hyosung GT650R', 'Royal Enfield Classic Stealth Black 500cc', 'Royal Enfield Bullet 500cc', 'TVS Apache RTR 200 4V FI', 'TVS Apache RTR 200 4V ABS', 'TVS Apache 150cc', 'Honda Livo Disc 110cc', 'TVS Apache RTR 200 4V ABS Race Edition', 'Honda CB Unicorn 160 STD', 'Hero CBZ 150cc', 'Hero Honda Splendor 100cc', 'Royal Enfield Thunderbird X 350cc', 'Benelli TNT 25 250cc', 'Hyosung Aquila GV250', 'Royal Enfield Thunderbird X 350cc ABS', 'Hero HF Deluxe Eco 100cc', 'Kawasaki Ninja 300cc', 'Yamaha FZS FI 150cc', 'Royal Enfield Bullet Twinspark 500cc', 'Royal Enfield Himalayan 410cc Fi ABS', 'Honda CB Unicorn 160 CBS', 'Hero Honda Splendor Plus 100cc', 'Royal Enfield Interceptor 650cc', 'Hero Splendor NXG 100cc']\n",
      "31558  listings\n",
      "-----------------------------------------------------------------------------------------------------------------------------\n",
      "cities with less than 10 listings \n",
      " ['Hero CD Dawn 100cc', 'Bajaj Pulsar NS200 ABS', 'Yamaha Gladiator 125cc', 'Suzuki GS 150 R 150cc', 'Bajaj CT 100 ES Alloy', 'Hero Ignitor Disc 125cc', 'Honda CB Shine 125cc Disc', 'Royal Enfield Classic Squadron Blue 500cc', 'Suzuki Gixxer SF 150cc Special MOTOGP Edition Rear Disc', 'Bajaj Avenger 200cc', 'Yamaha FZ S V 2.0 150cc Rear Disc', 'Suzuki Gixxer 150cc SP Rear Disc', 'Royal Enfield Machismo 500cc', 'Honda CB Unicorn Dazzler 150cc', 'Honda CB ShineSP 125cc Disc', 'Honda CB Hornet 160R Special Edition-CBS', 'Hero Splendor plus 100cc', 'Bajaj Avenger Street 180', 'Suzuki Gixxer SF 150cc SP Rear Disc', 'Suzuki Gixxer SF 150cc Rear Disc', 'Suzuki Hayabusa 1300cc', 'BMW G 310 R', 'Yamaha YZF-R3 320cc', 'Hero Xtreme 200R ABS', 'TVS Apache RTR 200 4V Race Edition 2.0', 'Honda Dream Neo 110cc', 'Yamaha Fazer FI V 2.0 150cc', 'Royal Enfield Machismo 350cc', 'TVS Victor 110cc Disc', 'Hero HF Deluxe Self 100cc', 'Hero Passion Pro i3S Disc 100cc', 'Royal Enfield Classic 350cc-Redditch Edition', 'Royal Enfield Thunderbird 350cc ABS', 'Hero Xtreme 200R', 'Honda X-Blade 160cc', 'TVS Apache RTR 160cc Rear Disc', 'Honda CB ShineSP 125cc', 'Yamaha YZF-R1 1000cc', 'Suzuki Intruder 150cc FI', 'Jawa Forty Two 295CC', 'TVS Apache RTR 160 4V DISC ABS', 'Bajaj Discover 100T', 'Yamaha Saluto 125cc', 'Suzuki Gixxer 150cc Dual Tone Rear Disc', 'TVS Apache RTR 200 4V Carburetor Race Edition 2.0', 'TVS Apache RTR 160 4V Carburetor', 'Bajaj Platina 125cc', 'Suzuki Gixxer SF Fi 150cc', 'Bajaj Discover 150S Disc', 'Honda CB Hornet 160R Special Edition STD', 'Hero Xtreme 150cc', 'KTM Duke 125cc', 'Hero Glamour i3s 125cc', 'Suzuki Gixxer SF Fi 150cc ABS', 'Yamaha FZ S V 2.0 150cc-Ltd. Edition', 'Bajaj Platina 100cc ComforTec Alloy', 'Bajaj CT 100 Alloy', 'Royal Enfield Classic 350cc Signals Edition', 'Yamaha FZ25 ABS 250cc', 'Kawasaki ER-6n 650cc', 'Hero Glamour Fi 125cc', 'Suzuki Gixxer SF 150cc ABS', 'Kawasaki Z650', 'Royal Enfield Thunderbird X 500cc', 'Honda CB Shine 125cc CBS', 'Ducati Monster 797', 'Bajaj Pulsar 200cc', 'Hero Achiever Disc 150cc', 'Yamaha SS 125 125cc', 'Royal Enfield Classic Gunmetal Grey 350cc ABS', 'Hyosung Aquila Pro GV650', 'Bajaj Pulsar NS 200cc', 'Kawasaki Z800', 'Hero Karizma 223cc', 'Benelli TNT 600i', 'Triumph Street Triple 765', 'Bajaj Pulsar NS160 Rear Disc', 'Kawasaki Z900', 'KTM RC 125CC', 'TVS Apache RTR 160 4V Carburetor With Rear Disc', 'Hyosung GT 650N', 'TVS Flame 125cc', 'KTM RC 200cc ABS', 'Benelli 302R 300CC', 'Harley-Davidson 1200 Custom', 'Hero Xtreme Sports 150cc', 'Royal Enfield Classic 350cc Dual Disc', 'Royal Enfield Bullet Twinspark Kickstart 350cc', 'Mahindra Mojo UT300', 'Hero HF Deluxe self Alloy 100cc', 'Yamaha MT-15 150cc', 'TVS Apache RTR 200 4V Carburetor Pirelli Tyres Race Edition 2.0', 'Bajaj Pulsar  180cc', 'Hero Xtreme Sports Rear Disc 150cc', 'Bajaj Discover 125T', 'Kawasaki Z250', 'Bajaj XCD 125', 'Mahindra Centuro NXT 110cc', 'Yamaha FZ S V 3.0 150cc ABS Dark Knight BS VI', 'Bajaj XCD 135', 'Ducati Panigale 959', 'Royal Enfield Classic Desert Storm 500cc Dual Disc', 'Hero Passion PRO  100 cc', 'TVS Radeon 110cc Drum SBT', 'Yamaha Fazer25 250cc', 'TVS Apache RTR 200 4V', 'Hero Achiever 150cc', 'Bajaj CT 100 B', 'Bajaj Avenger Street 160 ABS', 'Hero Glamour Disc 125cc', 'Kawasaki Ninja 250cc', 'Hero Splendor Plus IBS i3S 100cc', 'Kawasaki Versys 650cc', 'Suzuki Intruder SP 150cc', 'Bajaj Platina 110 CBS', 'Hero HF Deluxe i3s 100cc', 'Hero Xtreme Sports 149cc', 'Honda CB Hornet 160R  ABS STD', 'Harley-Davidson Sportster 883', 'Yamaha FZ Fi Version 2.0 150cc', 'Hero Splendor Pro Classic 100cc', 'MV Agusta F3 800cc', 'Honda Livo Disc 110cc CBS', 'Yamaha Crux 110cc', 'Bajaj CT 100 Spoke', 'Royal Enfield Bullet Electra Twinspark 350CC ABS', 'Triumph Thruxton R 1200cc', 'Hero Super Splendor 125cc i3s', 'Yamaha Fazer FI 150cc', 'Yamaha FZ S V 3.0 150cc', 'Yamaha SZ RR V 2.0 150cc Limited Edition', 'BMW G 310 GS', 'Triumph Bonneville T100 865cc', 'Honda CBR 250R Repsol', 'Yamaha YZF-R1M 1000cc', 'TVS Jive 110cc', 'Royal Enfield Himalayan 410cc Sleet Edition', 'Bajaj Pulsar 135LS 135cc', 'TVS Star City Plus Dual Tone 110cc', 'Kawasaki Ninja 300 ABS', 'Hero CD 100SS', 'Benelli TNT 600i ABS', 'Royal Enfield Classic 500cc Dual Disc', 'Royal Enfield Bullet 350 cc', 'Hero Splendor iSmart Plus IBS 110cc', 'Suzuki Gixxer SF Fi 150cc SP ABS', 'Hero Passion Pro 110cc Drum', 'Bajaj Avenger Street 220 ABS', 'Hero HF Dawn 100cc', 'Bajaj Pulsar 150cc Rear Disc', 'Honda CBR 150R Deluxe', 'Yamaha SZ RR V 2.0 150cc', 'Bajaj Boxer CT100', 'Royal Enfield Classic 350cc-Redditch Edition Dual Disc', 'Hyosung Aquila 250 250cc', 'Jawa Standard 295CC', 'Bajaj Pulsar NS 200', 'TVS Victor 110cc', 'Kawasaki Ninja 650 KRT Edition', 'Triumph Tiger 800 XCA', 'Hero Splendor Plus Kick Alloy 100cc', 'Bajaj Discover 150F Disc', 'Mahindra Mojo Tourer Edition 300cc', 'Bajaj Boxer BM150', 'TVS Apache RTR 160 4V FI', 'Kawasaki Ninja 400', 'Yamaha Saluto RX 110cc', 'TVS Phoenix 125cc', 'Benelli TNT 899', 'Harley-Davidson Street Rod XG750A ABS', 'Benelli TRK 502X', 'Hero Passion Pro i3S Alloy 100cc IBS', 'Royal Enfield Himalayan 410cc Sleet ABS', 'Yamaha YBR 110cc', 'Suzuki Gixxer 150cc ABS', 'Bajaj Avenger 150cc', 'TVS Apache RTR 200 4V FI Race Edition 2.0', 'Yamaha FZ V 3.0 150cc', 'Bajaj CT 100 KS Alloy', 'TVS Apache RTR 160 4V DISC ABS BS6', 'Hero HF Deluxe i3s iBS 100cc', 'Hero CBZ Star 160cc', 'Yamaha SZX 150cc', 'Suzuki Hayate EP 110cc', 'Hero Passion Pro TR 100cc', 'Yamaha SZ 150cc', 'Triumph Street Triple ABS 675cc', 'Bajaj Boxer AT100', 'Bajaj V12 125cc Disc', 'Honda CBR 650 F', 'Hero HF Deluxe Self Spoke 100cc', 'TVS Apache RTR 160cc Matt Red Rear Disc', 'BMW F750 GS 850cc', 'Suzuki Gixxer 150cc SP ABS', 'Bajaj Discover150 150cc', 'Ducati Multistrada 1200 Enduro', 'Ideal Jawa Yezdi CL-II 250 cc', 'Honda CBR1000RR Fireblade', 'Hero Splendor Plus  100 cc', 'TVS Apache RTR 160 4V Drum', 'Bajaj Pulsar RS200  ABS-200cc', 'Yamaha Libero G5 110cc', 'Hero Splendor Plus 100 CC', 'Triumph Street Twin 900cc', 'Yamaha FZS FI 150cc Rear Disc', 'TVS Apache RTR 200 4V Carburetor Pirelli Tyres', 'Ducati XDiavel 1262CC S', 'TVS Suzuki Shogun 110cc', 'Suzuki V-Strom 1000cc', 'Yamaha RX135 135cc 4-Speed', 'Benelli 302R', 'KTM Duke 250cc ABS', 'Bajaj Discover 125cc Disc', 'Indian Scout Bobber 1130cc', 'Honda CB Hornet 160R  ABS DLX', 'Ducati Diavel 1200cc', 'Triumph Speed Triple 1050cc', 'Honda CB Hornet 160R 160cc STD', 'Honda CBR650R', 'Hero Ambition 135cc', 'Royal Enfield Classic Chrome 500cc ABS', 'Suzuki Hayate 110cc', 'TVS Victor 110cc Disc SBT', 'Ducati Monster 796 Corse Stripe', 'Mahindra Pantero 110cc', 'TVS Phoenix Disc 125cc', 'Hero Karizma 223 cc', 'TVS Victor GX 110cc', 'Hero HF Deluxe 100 cc', 'Suzuki Gixxer SF 150cc Special MOTOGP Edition', 'TVS MAX 4R 110cc', 'Ducati 1299 Superleggera', 'Honda CBR 250R Repsol ABS', 'Honda CB Unicorn ABS 150cc', 'Honda X-Blade 160CC ABS', 'Hero i Smart 125cc', 'Bajaj Discover150S 150cc', 'Yamaha SZS 150cc', 'TVS Apache RTR 160cc White Race Edition', 'Harley-Davidson Fat Bob 107 Ci', 'Triumph Daytona 675 ABS', 'Triumph Daytona 675R', 'Royal Enfield Himalayan 410cc Fi', 'Yamaha Saluto 125cc-Special Edition', 'MV Agusta Brutale 1090', 'Bajaj Avenger 180cc', 'Bajaj Pulsar 150cc Neon', 'Kawasaki Z1000', 'Hero CBZ Xtreme 150 cc', 'Ducati Scrambler 1100 Special', 'Kawasaki Vulcan S 650cc', 'Yamaha RX-Z 135cc', 'Suzuki Gixxer Fi 150cc ABS', 'TVS Star 100cc', 'TVS Sports plus ES 100cc', 'Yamaha YZF R6 600cc', 'Ducati Monster 821 Dark', 'Rajdoot GTX 175cc', 'Hero Passion Pro 100cc Drum Alloy', 'BMW S 1000 XR Pro', 'TVS Apache RTR 160 4V DRUM ABS', 'Benelli TNT R 1130cc', 'Honda CB Hornet 160R 160cc STD SP', 'Bajaj Avenger Cruise 220 ABS', 'Benelli TNT 600 GT', 'Royal Enfield Bullet Electra Twinspark 350cc Double Disc', 'Bajaj V15 150cc POWER UP', 'Bajaj Pulsar 150cc Rear Disc ABS', 'Honda CB ShineSP 125cc CBS Disc', 'Suzuki GSX-R 1000cc', 'Ducati Monster 1200', 'Honda CBR 600RR', 'Honda CB 1000R', 'Hero Splendor Plus 100 cc', 'Bajaj Platina 110 H Gear Disc', 'Honda SP125 Disc BS6', 'KTM Duke 200cc ABS', 'Triumph Tiger 800 XR', 'Harley-Davidson Roadster XL 1200CX', 'Suzuki Gixxer SF 250cc ABS', 'Honda Dream Yuga 110cc CBS', 'TVS Apache RTR 200 4V Dual Channel ABS BS6', 'Triumph Tiger 800 XRX', 'Triumph Thunderbird Storm 1700cc', 'Suzuki GSX-S750', 'TVS Apache RR310 Slipper Clutch', 'Hero Xpulse 200cc FI', 'Honda CD 110 Dream DX', 'Mahindra Centuro Rockstar 110cc', 'Yezdi Classic 250cc', 'Honda CB ShineSP 125cc CBS', 'Harley-Davidson XG750 750cc', 'LML Freedom DX 110cc', 'Royal Enfield Continental GT 650cc', 'Hero Glamour PGM Fi 125cc', 'Honda CB Unicorn 150 150cc', 'Kawasaki Versys 1000', 'BMW S 1000 RR Pro', 'Ducati 1198 SP 1198cc', 'Hero Honda Ambition 135cc', 'Honda CD 110 Dream Self', 'Yamaha Saluto 125cc Disc Special Edition', 'Bajaj Platina Alloy ES 100cc', 'Mahindra Mojo XT300', 'TVS Fiero 150cc', 'Hero Passion XPRO 110 cc', 'Hero Xpulse 200T', 'Bajaj Pulsar 150cc Classic', 'Honda CB Hornet 160R', 'Yamaha YZF-R3 320cc ABS', 'Bajaj Pulsar 125cc Disc CBS', 'Suzuki Heat 125cc', 'Honda CB Shine 125cc Drum BS6', 'Hero Splendor+ 100cc', 'Indian Chief Classic 1800cc', 'TVS Apache RTR 160cc White Race Edition Rear Disc', 'Triumph Bonneville T100 900cc', 'Bajaj CT110 ES Alloy', 'Yamaha FZS FI 150cc Special Edition']\n",
      "1090  listings\n"
     ]
    }
   ],
   "source": [
    "bikes_dic = df['bike_name'].value_counts().to_dict()\n",
    "bikes = {}\n",
    "g10_bikes = []\n",
    "l10_bikes = []\n",
    "g_bsum = 0\n",
    "l_bsum = 0\n",
    "for bike,freq in bikes_dic.items():\n",
    "    if freq > 10:\n",
    "        g_bsum += freq\n",
    "        g10_bikes.append(bike) \n",
    "        bikes[bike] = freq\n",
    "    else:\n",
    "        l_bsum += freq\n",
    "        l10_bikes.append(bike)\n",
    "        \n",
    "\n",
    "print(\"cities with more than 10 listings \\n\", g10_bikes)\n",
    "print(g_bsum, \" listings\")\n",
    "print('-'*125)\n",
    "print(\"cities with less than 10 listings \\n\", l10_bikes)\n",
    "print(l_bsum, \" listings\")\n"
   ]
  },
  {
   "cell_type": "code",
   "execution_count": 41,
   "metadata": {},
   "outputs": [],
   "source": [
    "bike_mask = df['bike_name'].isin(g10_bikes)\n",
    "city_mask = df['city'].isin(g10_cities)"
   ]
  },
  {
   "cell_type": "code",
   "execution_count": 42,
   "metadata": {},
   "outputs": [],
   "source": [
    "new_df = df[(bike_mask) & (city_mask)]"
   ]
  },
  {
   "cell_type": "markdown",
   "metadata": {},
   "source": [
    "#### desc:- new_df is same as df but # of bike_name and city with more than 10 listings"
   ]
  },
  {
   "cell_type": "code",
   "execution_count": 43,
   "metadata": {},
   "outputs": [
    {
     "data": {
      "text/html": [
       "<div>\n",
       "<style scoped>\n",
       "    .dataframe tbody tr th:only-of-type {\n",
       "        vertical-align: middle;\n",
       "    }\n",
       "\n",
       "    .dataframe tbody tr th {\n",
       "        vertical-align: top;\n",
       "    }\n",
       "\n",
       "    .dataframe thead th {\n",
       "        text-align: right;\n",
       "    }\n",
       "</style>\n",
       "<table border=\"1\" class=\"dataframe\">\n",
       "  <thead>\n",
       "    <tr style=\"text-align: right;\">\n",
       "      <th></th>\n",
       "      <th>bike_name</th>\n",
       "      <th>price</th>\n",
       "      <th>city</th>\n",
       "      <th>kms_driven</th>\n",
       "      <th>owner</th>\n",
       "      <th>age</th>\n",
       "      <th>power</th>\n",
       "      <th>brand</th>\n",
       "    </tr>\n",
       "  </thead>\n",
       "  <tbody>\n",
       "    <tr>\n",
       "      <th>1</th>\n",
       "      <td>Royal Enfield Classic 350cc</td>\n",
       "      <td>119900.0</td>\n",
       "      <td>Delhi</td>\n",
       "      <td>11000.0</td>\n",
       "      <td>First Owner</td>\n",
       "      <td>4.0</td>\n",
       "      <td>350.0</td>\n",
       "      <td>Royal Enfield</td>\n",
       "    </tr>\n",
       "    <tr>\n",
       "      <th>3</th>\n",
       "      <td>TVS Apache RTR 180cc</td>\n",
       "      <td>65000.0</td>\n",
       "      <td>Bangalore</td>\n",
       "      <td>16329.0</td>\n",
       "      <td>First Owner</td>\n",
       "      <td>4.0</td>\n",
       "      <td>180.0</td>\n",
       "      <td>TVS</td>\n",
       "    </tr>\n",
       "    <tr>\n",
       "      <th>5</th>\n",
       "      <td>Yamaha FZs 150cc</td>\n",
       "      <td>53499.0</td>\n",
       "      <td>Delhi</td>\n",
       "      <td>25000.0</td>\n",
       "      <td>First Owner</td>\n",
       "      <td>6.0</td>\n",
       "      <td>150.0</td>\n",
       "      <td>Yamaha</td>\n",
       "    </tr>\n",
       "    <tr>\n",
       "      <th>7</th>\n",
       "      <td>Hero Splendor Plus Self Alloy 100cc</td>\n",
       "      <td>45000.0</td>\n",
       "      <td>Delhi</td>\n",
       "      <td>12645.0</td>\n",
       "      <td>First Owner</td>\n",
       "      <td>3.0</td>\n",
       "      <td>100.0</td>\n",
       "      <td>Hero</td>\n",
       "    </tr>\n",
       "    <tr>\n",
       "      <th>8</th>\n",
       "      <td>Royal Enfield Thunderbird X 350cc</td>\n",
       "      <td>145000.0</td>\n",
       "      <td>Bangalore</td>\n",
       "      <td>9190.0</td>\n",
       "      <td>First Owner</td>\n",
       "      <td>3.0</td>\n",
       "      <td>350.0</td>\n",
       "      <td>Royal Enfield</td>\n",
       "    </tr>\n",
       "  </tbody>\n",
       "</table>\n",
       "</div>"
      ],
      "text/plain": [
       "                             bike_name    price       city  kms_driven  \\\n",
       "1          Royal Enfield Classic 350cc 119900.0      Delhi     11000.0   \n",
       "3                 TVS Apache RTR 180cc  65000.0  Bangalore     16329.0   \n",
       "5                     Yamaha FZs 150cc  53499.0      Delhi     25000.0   \n",
       "7  Hero Splendor Plus Self Alloy 100cc  45000.0      Delhi     12645.0   \n",
       "8    Royal Enfield Thunderbird X 350cc 145000.0  Bangalore      9190.0   \n",
       "\n",
       "         owner  age  power          brand  \n",
       "1  First Owner  4.0  350.0  Royal Enfield  \n",
       "3  First Owner  4.0  180.0            TVS  \n",
       "5  First Owner  6.0  150.0         Yamaha  \n",
       "7  First Owner  3.0  100.0           Hero  \n",
       "8  First Owner  3.0  350.0  Royal Enfield  "
      ]
     },
     "execution_count": 43,
     "metadata": {},
     "output_type": "execute_result"
    }
   ],
   "source": [
    "new_df.head()"
   ]
  },
  {
   "cell_type": "code",
   "execution_count": 44,
   "metadata": {
    "scrolled": true
   },
   "outputs": [
    {
     "data": {
      "text/plain": [
       "{'Delhi': 7318,\n",
       " 'Bangalore': 2723,\n",
       " 'Mumbai': 2591,\n",
       " 'Hyderabad': 2160,\n",
       " 'Pune': 1724,\n",
       " 'Chennai': 1619,\n",
       " 'Lucknow': 1294,\n",
       " 'Jaipur': 1007,\n",
       " 'Ghaziabad': 938,\n",
       " 'Ahmedabad': 905,\n",
       " 'Noida': 776,\n",
       " 'Bhopal': 651,\n",
       " 'Gautam Buddha Nagar': 649,\n",
       " 'Kanchipuram': 640,\n",
       " 'Jodhpur': 635,\n",
       " 'Karnal': 625,\n",
       " 'Rupnagar': 621,\n",
       " 'Allahabad': 621,\n",
       " 'Gurgaon': 617,\n",
       " 'Godhara': 611,\n",
       " 'Faridabad': 609,\n",
       " 'Kadapa': 608,\n",
       " 'Perumbavoor': 608,\n",
       " 'Ludhiana': 100,\n",
       " 'Kolkata': 97,\n",
       " 'Thane': 94,\n",
       " 'Jhansi': 87,\n",
       " 'Vadodara': 75,\n",
       " 'Surat': 57,\n",
       " 'Jalandhar': 52,\n",
       " 'Chandigarh': 46,\n",
       " 'Rajkot': 36,\n",
       " 'Indore': 33,\n",
       " 'Dehradun': 30,\n",
       " 'Patna': 29,\n",
       " 'Navi Mumbai': 27,\n",
       " 'Nagpur': 27,\n",
       " 'Coimbatore': 25,\n",
       " 'Tiruvallur': 23,\n",
       " 'Guwahati': 23,\n",
       " 'Bhubaneshwar': 22,\n",
       " 'Howrah': 21,\n",
       " 'Kanpur': 19,\n",
       " 'Aurangabad': 18,\n",
       " 'Cuttack': 17,\n",
       " 'Visakhapatnam': 16,\n",
       " 'Alibag': 15,\n",
       " 'Alipore': 14,\n",
       " 'Kalyan': 13,\n",
       " 'Nashik': 13,\n",
       " 'Ranchi': 13,\n",
       " 'Udaipur': 12,\n",
       " 'Rohtak': 12,\n",
       " 'Agra': 12,\n",
       " 'Kota': 12,\n",
       " 'Gorakhpur': 12,\n",
       " '24 Pargana': 11,\n",
       " 'Ernakulam': 11,\n",
       " 'Gandhinagar': 11,\n",
       " 'Meerut': 11}"
      ]
     },
     "execution_count": 44,
     "metadata": {},
     "output_type": "execute_result"
    }
   ],
   "source": [
    "cities"
   ]
  },
  {
   "cell_type": "code",
   "execution_count": 45,
   "metadata": {},
   "outputs": [
    {
     "data": {
      "text/plain": [
       "{'Bajaj': 10806,\n",
       " 'Hero': 6068,\n",
       " 'Royal Enfield': 3926,\n",
       " 'Yamaha': 3720,\n",
       " 'Honda': 1926,\n",
       " 'Suzuki': 1340,\n",
       " 'TVS': 1092,\n",
       " 'KTM': 999,\n",
       " 'Harley-Davidson': 714,\n",
       " 'Hyosung': 46,\n",
       " 'Mahindra': 35,\n",
       " 'Benelli': 31,\n",
       " 'Kawasaki': 26}"
      ]
     },
     "execution_count": 45,
     "metadata": {},
     "output_type": "execute_result"
    }
   ],
   "source": [
    "brands = new_df['brand'].value_counts().to_dict()\n",
    "brands"
   ]
  },
  {
   "cell_type": "code",
   "execution_count": 46,
   "metadata": {},
   "outputs": [
    {
     "data": {
      "text/plain": [
       "{'Bajaj Pulsar 150cc': 2776,\n",
       " 'Bajaj Avenger Street 220': 2531,\n",
       " 'Bajaj Avenger 220cc': 2060,\n",
       " 'Royal Enfield Classic 350cc': 1673,\n",
       " 'Hero Passion Pro 100cc': 1432,\n",
       " 'Hero Passion 100cc': 1238,\n",
       " 'Royal Enfield Thunderbird 350cc': 919,\n",
       " 'Yamaha YZF-R15 2.0 150cc': 769,\n",
       " 'Royal Enfield Bullet Electra 350cc': 756,\n",
       " 'Bajaj Pulsar NS200': 708,\n",
       " 'KTM RC 390cc': 705,\n",
       " 'Bajaj Dominar 400 ABS': 700,\n",
       " 'Hero CD Deluxe 100cc': 693,\n",
       " 'Bajaj Platina 100cc': 686,\n",
       " 'Hero CBZ Xtreme 150cc': 686,\n",
       " 'Honda CB Trigger 150cc': 681,\n",
       " 'TVS Apache RTR 180cc': 675,\n",
       " 'Yamaha Fazer 150cc': 674,\n",
       " 'Yamaha FZ 150cc': 661,\n",
       " 'Hero Super Splendor 125cc': 649,\n",
       " 'Honda CB Hornet 160R STD': 641,\n",
       " 'Harley-Davidson Street 750 ABS': 631,\n",
       " 'Hero Hunk Rear Disc 150cc': 619,\n",
       " 'Suzuki Slingshot Plus 125cc': 617,\n",
       " 'Yamaha SZ-RR 150cc': 613,\n",
       " 'Yamaha Fazer 25 250cc': 613,\n",
       " 'Suzuki Zeus 125cc': 608,\n",
       " 'Hero Splendor Plus 100cc': 189,\n",
       " 'Honda CB Shine 125cc': 171,\n",
       " 'Bajaj V15 150cc': 159,\n",
       " 'Bajaj Avenger Street 150': 150,\n",
       " 'TVS Apache RTR 160cc': 134,\n",
       " 'Yamaha FZs 150cc': 127,\n",
       " 'KTM Duke 390cc': 124,\n",
       " 'Bajaj Pulsar RS200 ABS': 123,\n",
       " 'KTM RC 200cc': 111,\n",
       " 'Bajaj Discover 125cc': 105,\n",
       " 'Royal Enfield Thunderbird 500cc': 103,\n",
       " 'Hero HF Deluxe 100cc': 101,\n",
       " 'Bajaj Pulsar 220cc': 98,\n",
       " 'Bajaj Pulsar 180cc': 93,\n",
       " 'KTM Duke 200cc': 90,\n",
       " 'Royal Enfield Classic 500cc': 89,\n",
       " 'Bajaj Pulsar RS200': 80,\n",
       " 'Bajaj CT 100 100cc': 80,\n",
       " 'Hero Passion Plus 100cc': 79,\n",
       " 'Bajaj Discover 100cc': 79,\n",
       " 'Bajaj Pulsar 135LS': 78,\n",
       " 'Honda CBF Stunner 125cc': 76,\n",
       " 'Bajaj Avenger Cruise 220': 72,\n",
       " 'Honda CBR 150R 150cc': 71,\n",
       " 'Honda CB Unicorn 150cc': 71,\n",
       " 'Yamaha YZF-R15 150cc': 69,\n",
       " 'Bajaj Pulsar 220F': 68,\n",
       " 'Harley-Davidson Street 750': 66,\n",
       " 'Hero Splendor Pro 100cc': 62,\n",
       " 'Suzuki Gixxer 150cc': 62,\n",
       " 'Royal Enfield Bullet Twinspark 350cc': 58,\n",
       " 'Royal Enfield Bullet 350cc': 57,\n",
       " 'Honda Dream Yuga 110cc': 56,\n",
       " 'Hero Karizma R 223cc': 56,\n",
       " 'TVS Sport 100cc': 54,\n",
       " 'Royal Enfield Classic Desert Storm 500cc': 54,\n",
       " 'Yamaha FZ16 150cc': 51,\n",
       " 'Hero Passion Xpro 110cc': 51,\n",
       " 'Royal Enfield Himalayan 410cc': 51,\n",
       " 'Royal Enfield Bullet Electra Twinspark 350cc': 50,\n",
       " 'Bajaj Discover 135cc': 46,\n",
       " 'Yamaha FZ S V 2.0 150cc': 45,\n",
       " 'Hero Splendor iSmart 110cc': 43,\n",
       " 'Honda CBR 250R': 42,\n",
       " 'Yamaha YZF-R15 V3 150cc': 41,\n",
       " 'TVS Apache RTR 200 4V Carburetor': 40,\n",
       " 'Yamaha FZ25 250cc': 40,\n",
       " 'Honda CB Twister 110cc': 40,\n",
       " 'Hero Hunk 150cc': 38,\n",
       " 'Bajaj Pulsar AS150': 38,\n",
       " 'TVS Star City Plus 110cc': 37,\n",
       " 'Hero Karizma ZMR 223cc': 37,\n",
       " 'Hero Glamour 125cc': 37,\n",
       " 'Suzuki Gixxer SF 150cc': 36,\n",
       " 'Bajaj Discover 125ST': 35,\n",
       " 'Yamaha SZR 150cc': 35,\n",
       " 'TVS Star City 110cc': 35,\n",
       " 'Bajaj Platina  Alloy ES-100cc': 34,\n",
       " 'Honda CB Hornet 160R CBS': 33,\n",
       " 'Royal Enfield Standard 350cc': 33,\n",
       " 'Hero Splendor 100cc': 32,\n",
       " 'Bajaj Pulsar 200 NS 200cc': 31,\n",
       " 'TVS Apache RR310': 31,\n",
       " 'Bajaj Discover 100M': 31,\n",
       " 'Bajaj Pulsar AS200': 30,\n",
       " 'Royal Enfield Electra 350cc': 30,\n",
       " 'Royal Enfield Classic Chrome 500cc': 30,\n",
       " 'Hero Ignitor 125cc': 30,\n",
       " 'Honda Livo 110cc': 29,\n",
       " 'Suzuki Intruder 150cc': 29,\n",
       " 'Bajaj Dominar 400': 27,\n",
       " 'Royal Enfield\\u200e Bullet 350cc': 27,\n",
       " 'Harley-Davidson Iron 883': 27,\n",
       " 'KTM Duke 250cc': 27,\n",
       " 'Hyosung GT250R': 25,\n",
       " 'Bajaj  Pulsar 180cc': 25,\n",
       " 'Mahindra Centuro 110cc': 25,\n",
       " 'Hero Splendor iSmart 100cc': 24,\n",
       " 'Yamaha FZ V 2.0 150cc': 24,\n",
       " 'Royal Enfield Classic Gunmetal Grey 350cc': 24,\n",
       " 'Bajaj Discover 150cc': 24,\n",
       " 'Hero Passion Pro i3S Alloy 100cc': 24,\n",
       " 'TVS Star Sport 100cc': 23,\n",
       " 'Royal Enfield Continental GT 535cc': 23,\n",
       " 'Honda CBR 250R ABS': 23,\n",
       " 'Kawasaki Ninja 650cc': 22,\n",
       " 'Bajaj Pulsar NS160': 22,\n",
       " 'TVS Apache RTR 180cc ABS': 22,\n",
       " 'Benelli TNT 300': 22,\n",
       " 'Royal Enfield Standard 500cc': 20,\n",
       " 'Yamaha YZF-R15 S 150cc': 20,\n",
       " 'TVS Apache RTR 160 4V Disc': 20,\n",
       " 'TVS Apache RTR 200 4V Fi': 18,\n",
       " 'Bajaj Discover 125M': 17,\n",
       " 'Mahindra Mojo 300cc': 16,\n",
       " 'Bajaj V12 125cc': 15,\n",
       " 'Bajaj Discover 110cc': 15,\n",
       " 'Bajaj Discover 150F': 15,\n",
       " 'Hero Splendor Plus Self Alloy 100cc': 14,\n",
       " 'Honda CB Unicorn 160': 14,\n",
       " 'Honda CD 110 Dream': 14,\n",
       " 'Hyosung GT650R': 14,\n",
       " 'Royal Enfield Classic Stealth Black 500cc': 14,\n",
       " 'Royal Enfield Bullet 500cc': 14,\n",
       " 'TVS Apache RTR 200 4V FI': 14,\n",
       " 'TVS Apache RTR 200 4V ABS': 14,\n",
       " 'TVS Apache 150cc': 13,\n",
       " 'Honda Livo Disc 110cc': 13,\n",
       " 'TVS Apache RTR 200 4V ABS Race Edition': 13,\n",
       " 'Honda CB Unicorn 160 STD': 13,\n",
       " 'Hero CBZ 150cc': 13,\n",
       " 'Hero Honda Splendor 100cc': 13,\n",
       " 'Royal Enfield Thunderbird X 350cc': 13,\n",
       " 'Benelli TNT 25 250cc': 13,\n",
       " 'Hyosung Aquila GV250': 12,\n",
       " 'Royal Enfield Thunderbird X 350cc ABS': 12,\n",
       " 'Hero HF Deluxe Eco 100cc': 12,\n",
       " 'Kawasaki Ninja 300cc': 12,\n",
       " 'Yamaha FZS FI 150cc': 12,\n",
       " 'Royal Enfield Bullet Twinspark 500cc': 11,\n",
       " 'Royal Enfield Himalayan 410cc Fi ABS': 11,\n",
       " 'Honda CB Unicorn 160 CBS': 11,\n",
       " 'Hero Honda Splendor Plus 100cc': 11,\n",
       " 'Royal Enfield Interceptor 650cc': 11,\n",
       " 'Hero Splendor NXG 100cc': 11}"
      ]
     },
     "execution_count": 46,
     "metadata": {},
     "output_type": "execute_result"
    }
   ],
   "source": [
    "bikes"
   ]
  },
  {
   "cell_type": "code",
   "execution_count": 47,
   "metadata": {},
   "outputs": [
    {
     "name": "stderr",
     "output_type": "stream",
     "text": [
      "C:\\Users\\Murari\\AppData\\Local\\Temp/ipykernel_11124/2126325971.py:1: SettingWithCopyWarning: \n",
      "A value is trying to be set on a copy of a slice from a DataFrame.\n",
      "Try using .loc[row_indexer,col_indexer] = value instead\n",
      "\n",
      "See the caveats in the documentation: https://pandas.pydata.org/pandas-docs/stable/user_guide/indexing.html#returning-a-view-versus-a-copy\n",
      "  new_df['bike_name'] = new_df['bike_name'].map(bikes)\n"
     ]
    }
   ],
   "source": [
    "new_df['bike_name'] = new_df['bike_name'].map(bikes)"
   ]
  },
  {
   "cell_type": "code",
   "execution_count": 48,
   "metadata": {},
   "outputs": [
    {
     "name": "stderr",
     "output_type": "stream",
     "text": [
      "C:\\Users\\Murari\\AppData\\Local\\Temp/ipykernel_11124/638815922.py:1: SettingWithCopyWarning: \n",
      "A value is trying to be set on a copy of a slice from a DataFrame.\n",
      "Try using .loc[row_indexer,col_indexer] = value instead\n",
      "\n",
      "See the caveats in the documentation: https://pandas.pydata.org/pandas-docs/stable/user_guide/indexing.html#returning-a-view-versus-a-copy\n",
      "  new_df['brand'] = new_df['brand'].map(brands)\n"
     ]
    }
   ],
   "source": [
    "new_df['brand'] = new_df['brand'].map(brands)"
   ]
  },
  {
   "cell_type": "code",
   "execution_count": 49,
   "metadata": {},
   "outputs": [
    {
     "name": "stderr",
     "output_type": "stream",
     "text": [
      "C:\\Users\\Murari\\AppData\\Local\\Temp/ipykernel_11124/3491813578.py:1: SettingWithCopyWarning: \n",
      "A value is trying to be set on a copy of a slice from a DataFrame.\n",
      "Try using .loc[row_indexer,col_indexer] = value instead\n",
      "\n",
      "See the caveats in the documentation: https://pandas.pydata.org/pandas-docs/stable/user_guide/indexing.html#returning-a-view-versus-a-copy\n",
      "  new_df['city'] = new_df['city'].map(cities)\n"
     ]
    }
   ],
   "source": [
    "new_df['city'] = new_df['city'].map(cities)"
   ]
  },
  {
   "cell_type": "code",
   "execution_count": 50,
   "metadata": {},
   "outputs": [
    {
     "data": {
      "text/html": [
       "<div>\n",
       "<style scoped>\n",
       "    .dataframe tbody tr th:only-of-type {\n",
       "        vertical-align: middle;\n",
       "    }\n",
       "\n",
       "    .dataframe tbody tr th {\n",
       "        vertical-align: top;\n",
       "    }\n",
       "\n",
       "    .dataframe thead th {\n",
       "        text-align: right;\n",
       "    }\n",
       "</style>\n",
       "<table border=\"1\" class=\"dataframe\">\n",
       "  <thead>\n",
       "    <tr style=\"text-align: right;\">\n",
       "      <th></th>\n",
       "      <th>bike_name</th>\n",
       "      <th>price</th>\n",
       "      <th>city</th>\n",
       "      <th>kms_driven</th>\n",
       "      <th>owner</th>\n",
       "      <th>age</th>\n",
       "      <th>power</th>\n",
       "      <th>brand</th>\n",
       "    </tr>\n",
       "  </thead>\n",
       "  <tbody>\n",
       "    <tr>\n",
       "      <th>1</th>\n",
       "      <td>1673</td>\n",
       "      <td>119900.0</td>\n",
       "      <td>7318</td>\n",
       "      <td>11000.0</td>\n",
       "      <td>First Owner</td>\n",
       "      <td>4.0</td>\n",
       "      <td>350.0</td>\n",
       "      <td>3926</td>\n",
       "    </tr>\n",
       "    <tr>\n",
       "      <th>3</th>\n",
       "      <td>675</td>\n",
       "      <td>65000.0</td>\n",
       "      <td>2723</td>\n",
       "      <td>16329.0</td>\n",
       "      <td>First Owner</td>\n",
       "      <td>4.0</td>\n",
       "      <td>180.0</td>\n",
       "      <td>1092</td>\n",
       "    </tr>\n",
       "    <tr>\n",
       "      <th>5</th>\n",
       "      <td>127</td>\n",
       "      <td>53499.0</td>\n",
       "      <td>7318</td>\n",
       "      <td>25000.0</td>\n",
       "      <td>First Owner</td>\n",
       "      <td>6.0</td>\n",
       "      <td>150.0</td>\n",
       "      <td>3720</td>\n",
       "    </tr>\n",
       "    <tr>\n",
       "      <th>7</th>\n",
       "      <td>14</td>\n",
       "      <td>45000.0</td>\n",
       "      <td>7318</td>\n",
       "      <td>12645.0</td>\n",
       "      <td>First Owner</td>\n",
       "      <td>3.0</td>\n",
       "      <td>100.0</td>\n",
       "      <td>6068</td>\n",
       "    </tr>\n",
       "    <tr>\n",
       "      <th>8</th>\n",
       "      <td>13</td>\n",
       "      <td>145000.0</td>\n",
       "      <td>2723</td>\n",
       "      <td>9190.0</td>\n",
       "      <td>First Owner</td>\n",
       "      <td>3.0</td>\n",
       "      <td>350.0</td>\n",
       "      <td>3926</td>\n",
       "    </tr>\n",
       "  </tbody>\n",
       "</table>\n",
       "</div>"
      ],
      "text/plain": [
       "   bike_name    price  city  kms_driven        owner  age  power  brand\n",
       "1       1673 119900.0  7318     11000.0  First Owner  4.0  350.0   3926\n",
       "3        675  65000.0  2723     16329.0  First Owner  4.0  180.0   1092\n",
       "5        127  53499.0  7318     25000.0  First Owner  6.0  150.0   3720\n",
       "7         14  45000.0  7318     12645.0  First Owner  3.0  100.0   6068\n",
       "8         13 145000.0  2723      9190.0  First Owner  3.0  350.0   3926"
      ]
     },
     "execution_count": 50,
     "metadata": {},
     "output_type": "execute_result"
    }
   ],
   "source": [
    "new_df.head()"
   ]
  },
  {
   "cell_type": "code",
   "execution_count": 51,
   "metadata": {},
   "outputs": [],
   "source": [
    "owners = {'First Owner':1,\"Second Owner\":2,\"Third Owner\":3,\"Fourth Owner Or More\":4}"
   ]
  },
  {
   "cell_type": "code",
   "execution_count": 52,
   "metadata": {},
   "outputs": [
    {
     "name": "stderr",
     "output_type": "stream",
     "text": [
      "C:\\Users\\Murari\\AppData\\Local\\Temp/ipykernel_11124/1934184109.py:1: SettingWithCopyWarning: \n",
      "A value is trying to be set on a copy of a slice from a DataFrame.\n",
      "Try using .loc[row_indexer,col_indexer] = value instead\n",
      "\n",
      "See the caveats in the documentation: https://pandas.pydata.org/pandas-docs/stable/user_guide/indexing.html#returning-a-view-versus-a-copy\n",
      "  new_df['owner'] = new_df['owner'].map(owners)\n"
     ]
    }
   ],
   "source": [
    "new_df['owner'] = new_df['owner'].map(owners)"
   ]
  },
  {
   "cell_type": "code",
   "execution_count": 53,
   "metadata": {},
   "outputs": [
    {
     "data": {
      "text/plain": [
       "1    28219\n",
       "2     2422\n",
       "3       81\n",
       "4        7\n",
       "Name: owner, dtype: int64"
      ]
     },
     "execution_count": 53,
     "metadata": {},
     "output_type": "execute_result"
    }
   ],
   "source": [
    "new_df['owner'].value_counts()"
   ]
  },
  {
   "cell_type": "code",
   "execution_count": 54,
   "metadata": {},
   "outputs": [
    {
     "data": {
      "text/plain": [
       "First Owner             29964\n",
       "Second Owner             2564\n",
       "Third Owner               108\n",
       "Fourth Owner Or More       12\n",
       "Name: owner, dtype: int64"
      ]
     },
     "execution_count": 54,
     "metadata": {},
     "output_type": "execute_result"
    }
   ],
   "source": [
    "df['owner'].value_counts(0)"
   ]
  },
  {
   "cell_type": "code",
   "execution_count": 55,
   "metadata": {},
   "outputs": [
    {
     "data": {
      "text/plain": [
       "10806    10806\n",
       "6068      6068\n",
       "3926      3926\n",
       "3720      3720\n",
       "1926      1926\n",
       "1340      1340\n",
       "1092      1092\n",
       "999        999\n",
       "714        714\n",
       "46          46\n",
       "35          35\n",
       "31          31\n",
       "26          26\n",
       "Name: brand, dtype: int64"
      ]
     },
     "execution_count": 55,
     "metadata": {},
     "output_type": "execute_result"
    }
   ],
   "source": [
    "new_df['brand'].value_counts()"
   ]
  },
  {
   "cell_type": "code",
   "execution_count": 56,
   "metadata": {},
   "outputs": [
    {
     "data": {
      "text/html": [
       "<div>\n",
       "<style scoped>\n",
       "    .dataframe tbody tr th:only-of-type {\n",
       "        vertical-align: middle;\n",
       "    }\n",
       "\n",
       "    .dataframe tbody tr th {\n",
       "        vertical-align: top;\n",
       "    }\n",
       "\n",
       "    .dataframe thead th {\n",
       "        text-align: right;\n",
       "    }\n",
       "</style>\n",
       "<table border=\"1\" class=\"dataframe\">\n",
       "  <thead>\n",
       "    <tr style=\"text-align: right;\">\n",
       "      <th></th>\n",
       "      <th>bike_name</th>\n",
       "      <th>price</th>\n",
       "      <th>city</th>\n",
       "      <th>kms_driven</th>\n",
       "      <th>owner</th>\n",
       "      <th>age</th>\n",
       "      <th>power</th>\n",
       "      <th>brand</th>\n",
       "    </tr>\n",
       "  </thead>\n",
       "  <tbody>\n",
       "    <tr>\n",
       "      <th>1</th>\n",
       "      <td>1673</td>\n",
       "      <td>119900.0</td>\n",
       "      <td>7318</td>\n",
       "      <td>11000.0</td>\n",
       "      <td>1</td>\n",
       "      <td>4.0</td>\n",
       "      <td>350.0</td>\n",
       "      <td>3926</td>\n",
       "    </tr>\n",
       "    <tr>\n",
       "      <th>3</th>\n",
       "      <td>675</td>\n",
       "      <td>65000.0</td>\n",
       "      <td>2723</td>\n",
       "      <td>16329.0</td>\n",
       "      <td>1</td>\n",
       "      <td>4.0</td>\n",
       "      <td>180.0</td>\n",
       "      <td>1092</td>\n",
       "    </tr>\n",
       "    <tr>\n",
       "      <th>5</th>\n",
       "      <td>127</td>\n",
       "      <td>53499.0</td>\n",
       "      <td>7318</td>\n",
       "      <td>25000.0</td>\n",
       "      <td>1</td>\n",
       "      <td>6.0</td>\n",
       "      <td>150.0</td>\n",
       "      <td>3720</td>\n",
       "    </tr>\n",
       "    <tr>\n",
       "      <th>7</th>\n",
       "      <td>14</td>\n",
       "      <td>45000.0</td>\n",
       "      <td>7318</td>\n",
       "      <td>12645.0</td>\n",
       "      <td>1</td>\n",
       "      <td>3.0</td>\n",
       "      <td>100.0</td>\n",
       "      <td>6068</td>\n",
       "    </tr>\n",
       "    <tr>\n",
       "      <th>8</th>\n",
       "      <td>13</td>\n",
       "      <td>145000.0</td>\n",
       "      <td>2723</td>\n",
       "      <td>9190.0</td>\n",
       "      <td>1</td>\n",
       "      <td>3.0</td>\n",
       "      <td>350.0</td>\n",
       "      <td>3926</td>\n",
       "    </tr>\n",
       "  </tbody>\n",
       "</table>\n",
       "</div>"
      ],
      "text/plain": [
       "   bike_name    price  city  kms_driven  owner  age  power  brand\n",
       "1       1673 119900.0  7318     11000.0      1  4.0  350.0   3926\n",
       "3        675  65000.0  2723     16329.0      1  4.0  180.0   1092\n",
       "5        127  53499.0  7318     25000.0      1  6.0  150.0   3720\n",
       "7         14  45000.0  7318     12645.0      1  3.0  100.0   6068\n",
       "8         13 145000.0  2723      9190.0      1  3.0  350.0   3926"
      ]
     },
     "execution_count": 56,
     "metadata": {},
     "output_type": "execute_result"
    }
   ],
   "source": [
    "new_df.head()"
   ]
  },
  {
   "cell_type": "code",
   "execution_count": 57,
   "metadata": {},
   "outputs": [],
   "source": [
    "X = new_df.drop('price', axis = 1)\n",
    "y = new_df['price']"
   ]
  },
  {
   "cell_type": "code",
   "execution_count": 58,
   "metadata": {},
   "outputs": [],
   "source": [
    "# SPLIT\n",
    "from sklearn.model_selection import train_test_split\n",
    "\n",
    "# MODELS\n",
    "from sklearn.linear_model import LinearRegression, Ridge, Lasso\n",
    "from sklearn.neighbors import KNeighborsRegressor\n",
    "from sklearn.tree import DecisionTreeRegressor\n",
    "from sklearn.ensemble import RandomForestRegressor\n",
    "from sklearn.svm import SVR\n",
    "\n",
    "# Metric\n",
    "from sklearn.metrics import mean_squared_error, mean_absolute_error, r2_score"
   ]
  },
  {
   "cell_type": "code",
   "execution_count": 59,
   "metadata": {},
   "outputs": [],
   "source": [
    "X_train, X_test, y_train, y_test = train_test_split(X, y, test_size=0.30, random_state=42)"
   ]
  },
  {
   "cell_type": "code",
   "execution_count": 77,
   "metadata": {},
   "outputs": [],
   "source": [
    "lr = LinearRegression()\n",
    "rd = Ridge()\n",
    "ls = Lasso()\n",
    "knn = KNeighborsRegressor()\n",
    "dt = DecisionTreeRegressor()\n",
    "rf = RandomForestRegressor()\n",
    "svr = SVR()"
   ]
  },
  {
   "cell_type": "code",
   "execution_count": 78,
   "metadata": {},
   "outputs": [],
   "source": [
    "models = []\n",
    "# models.append((\"DecisionTreeClassifier\", DTC))\n",
    "models.append((\"Linear Regression\",lr))\n",
    "models.append((\"Ridge\",rd))\n",
    "models.append((\"Lasso\",ls))\n",
    "models.append((\"Knn\",knn))\n",
    "models.append((\"Decision Tree\",dt))\n",
    "models.append((\"Random Forest\",rf))\n",
    "models.append((\"SVR\",svr))"
   ]
  },
  {
   "cell_type": "code",
   "execution_count": 126,
   "metadata": {},
   "outputs": [
    {
     "data": {
      "text/html": [
       "<div>\n",
       "<style scoped>\n",
       "    .dataframe tbody tr th:only-of-type {\n",
       "        vertical-align: middle;\n",
       "    }\n",
       "\n",
       "    .dataframe tbody tr th {\n",
       "        vertical-align: top;\n",
       "    }\n",
       "\n",
       "    .dataframe thead th {\n",
       "        text-align: right;\n",
       "    }\n",
       "</style>\n",
       "<table border=\"1\" class=\"dataframe\">\n",
       "  <thead>\n",
       "    <tr style=\"text-align: right;\">\n",
       "      <th></th>\n",
       "      <th>Model</th>\n",
       "      <th>Train_score</th>\n",
       "      <th>Test_score</th>\n",
       "      <th>R2_train_score</th>\n",
       "      <th>R2_test_score</th>\n",
       "    </tr>\n",
       "  </thead>\n",
       "  <tbody>\n",
       "    <tr>\n",
       "      <th>0</th>\n",
       "      <td>Linear Regression</td>\n",
       "      <td>19794.4</td>\n",
       "      <td>19587.2</td>\n",
       "      <td>0.8</td>\n",
       "      <td>0.8</td>\n",
       "    </tr>\n",
       "    <tr>\n",
       "      <th>1</th>\n",
       "      <td>Ridge</td>\n",
       "      <td>19794.4</td>\n",
       "      <td>19587.2</td>\n",
       "      <td>0.8</td>\n",
       "      <td>0.8</td>\n",
       "    </tr>\n",
       "    <tr>\n",
       "      <th>2</th>\n",
       "      <td>Lasso</td>\n",
       "      <td>19794.3</td>\n",
       "      <td>19587.2</td>\n",
       "      <td>0.8</td>\n",
       "      <td>0.8</td>\n",
       "    </tr>\n",
       "    <tr>\n",
       "      <th>3</th>\n",
       "      <td>Knn</td>\n",
       "      <td>4739.6</td>\n",
       "      <td>5979.1</td>\n",
       "      <td>0.9</td>\n",
       "      <td>0.9</td>\n",
       "    </tr>\n",
       "    <tr>\n",
       "      <th>4</th>\n",
       "      <td>Decision Tree</td>\n",
       "      <td>7.4</td>\n",
       "      <td>2247.4</td>\n",
       "      <td>1.0</td>\n",
       "      <td>1.0</td>\n",
       "    </tr>\n",
       "    <tr>\n",
       "      <th>5</th>\n",
       "      <td>Random Forest</td>\n",
       "      <td>715.1</td>\n",
       "      <td>1977.3</td>\n",
       "      <td>1.0</td>\n",
       "      <td>1.0</td>\n",
       "    </tr>\n",
       "    <tr>\n",
       "      <th>6</th>\n",
       "      <td>SVR</td>\n",
       "      <td>38644.9</td>\n",
       "      <td>38130.4</td>\n",
       "      <td>-0.1</td>\n",
       "      <td>-0.1</td>\n",
       "    </tr>\n",
       "  </tbody>\n",
       "</table>\n",
       "</div>"
      ],
      "text/plain": [
       "               Model  Train_score  Test_score  R2_train_score  R2_test_score\n",
       "0  Linear Regression      19794.4     19587.2             0.8            0.8\n",
       "1              Ridge      19794.4     19587.2             0.8            0.8\n",
       "2              Lasso      19794.3     19587.2             0.8            0.8\n",
       "3                Knn       4739.6      5979.1             0.9            0.9\n",
       "4      Decision Tree          7.4      2247.4             1.0            1.0\n",
       "5      Random Forest        715.1      1977.3             1.0            1.0\n",
       "6                SVR      38644.9     38130.4            -0.1           -0.1"
      ]
     },
     "execution_count": 126,
     "metadata": {},
     "output_type": "execute_result"
    }
   ],
   "source": [
    "Model = []\n",
    "R2_train_score = []\n",
    "R2_test_score = []\n",
    "train_score = []\n",
    "test_score = []\n",
    "\n",
    "for name,model in models:\n",
    "    Model.append(name)\n",
    "    model.fit(X_train,y_train)\n",
    "    train_pre = model.predict(X_train)\n",
    "    \n",
    "    TAS = mean_absolute_error(y_train,train_pre)\n",
    "    train_score.append(TAS)\n",
    "    r2_train = r2_score(y_train,train_pre)\n",
    "    R2_train_score.append(r2_train)\n",
    "    \n",
    "    test_pre = model.predict(X_test)\n",
    "    AS = mean_absolute_error(y_test,test_pre)\n",
    "    test_score.append(AS)\n",
    "    r2_test = r2_score(y_test,test_pre)\n",
    "    R2_test_score.append(r2_test)\n",
    "    \n",
    "Model_results = pd.DataFrame(list(zip(Model, train_score, test_score, R2_train_score, R2_test_score)), columns = [\"Model\",\"Train_score\", \"Test_score\",\"R2_train_score\",\"R2_test_score\"])\n",
    "Model_results"
   ]
  },
  {
   "cell_type": "markdown",
   "metadata": {},
   "source": [
    "#### Random Forest is performing better than other models "
   ]
  },
  {
   "cell_type": "code",
   "execution_count": 117,
   "metadata": {},
   "outputs": [],
   "source": [
    "grid = {'n_estimators': [5,50,100,200],\n",
    "\n",
    "'max_features': ['auto', 'log2'],\n",
    "\n",
    "'max_depth': [5,10,20,None],\n",
    "\n",
    "'min_samples_split': [2, 6, 10],\n",
    "\n",
    "'min_samples_leaf': [1, 3, 4],\n",
    "\n",
    "'bootstrap': [True, False]}"
   ]
  },
  {
   "cell_type": "code",
   "execution_count": 120,
   "metadata": {},
   "outputs": [],
   "source": [
    "# from sklearn.model_selection import RandomizedSearchCV\n",
    "from sklearn.model_selection import GridSearchCV\n",
    "rf_random = GridSearchCV(estimator = rf, param_grid = grid,cv = 3, verbose=2, n_jobs = 4, return_train_score=True)"
   ]
  },
  {
   "cell_type": "code",
   "execution_count": 121,
   "metadata": {},
   "outputs": [
    {
     "name": "stdout",
     "output_type": "stream",
     "text": [
      "Fitting 3 folds for each of 576 candidates, totalling 1728 fits\n"
     ]
    },
    {
     "data": {
      "text/plain": [
       "GridSearchCV(cv=3, estimator=RandomForestRegressor(), n_jobs=4,\n",
       "             param_grid={'bootstrap': [True, False],\n",
       "                         'max_depth': [5, 10, 20, None],\n",
       "                         'max_features': ['auto', 'log2'],\n",
       "                         'min_samples_leaf': [1, 3, 4],\n",
       "                         'min_samples_split': [2, 6, 10],\n",
       "                         'n_estimators': [5, 50, 100, 200]},\n",
       "             return_train_score=True, verbose=2)"
      ]
     },
     "execution_count": 121,
     "metadata": {},
     "output_type": "execute_result"
    }
   ],
   "source": [
    "rf_random.fit(X_train, y_train)"
   ]
  },
  {
   "cell_type": "code",
   "execution_count": 122,
   "metadata": {},
   "outputs": [
    {
     "name": "stdout",
     "output_type": "stream",
     "text": [
      "Best Parameters:  {'bootstrap': False, 'max_depth': 20, 'max_features': 'log2', 'min_samples_leaf': 1, 'min_samples_split': 6, 'n_estimators': 100}  \n",
      "\n"
     ]
    }
   ],
   "source": [
    "print ('Best Parameters: ', rf_random.best_params_, ' \\n')"
   ]
  },
  {
   "cell_type": "code",
   "execution_count": 63,
   "metadata": {},
   "outputs": [
    {
     "name": "stdout",
     "output_type": "stream",
     "text": [
      "Train Score 836.7201292602427\n",
      "Test Score 1940.956593660454\n",
      "R2 Train Score 0.9970267814338942\n",
      "R2 Test Score 0.9892325059102364\n"
     ]
    }
   ],
   "source": [
    "final = RandomForestRegressor(bootstrap =False, max_depth= 20, max_features= 'log2', min_samples_leaf= 1, min_samples_split= 6, n_estimators= 100)\n",
    "final.fit(X_train,y_train)\n",
    "train_predict = final.predict(X_train)\n",
    "train_score = mean_absolute_error(y_train, train_predict)\n",
    "test_predict = final.predict(X_test)\n",
    "test_score = mean_absolute_error(y_test, test_predict)\n",
    "r2_train = r2_score(y_train,train_predict)    \n",
    "r2_test = r2_score(y_test,test_predict)\n",
    "\n",
    "\n",
    "print(\"Train Score\", train_score)\n",
    "print(\"Test Score\", test_score)\n",
    "print(\"R2 Train Score\", r2_train)\n",
    "print(\"R2 Test Score\", r2_test)"
   ]
  },
  {
   "cell_type": "code",
   "execution_count": 64,
   "metadata": {},
   "outputs": [],
   "source": [
    "import pickle\n",
    "\n",
    "pickle.dump(new_df,open('df.pkl','wb'))\n",
    "pickle.dump(final,open('model.pkl','wb'))"
   ]
  },
  {
   "cell_type": "code",
   "execution_count": 61,
   "metadata": {},
   "outputs": [
    {
     "data": {
      "text/plain": [
       "Index(['bike_name', 'city', 'kms_driven', 'owner', 'age', 'power', 'brand'], dtype='object')"
      ]
     },
     "execution_count": 61,
     "metadata": {},
     "output_type": "execute_result"
    }
   ],
   "source": [
    "X_train.columns\n",
    "\n"
   ]
  },
  {
   "cell_type": "code",
   "execution_count": 70,
   "metadata": {},
   "outputs": [
    {
     "data": {
      "text/plain": [
       "array([0.0473204 , 0.02933283, 0.17164687, 0.00279948, 0.11664688,\n",
       "       0.36785524, 0.2643983 ])"
      ]
     },
     "execution_count": 70,
     "metadata": {},
     "output_type": "execute_result"
    }
   ],
   "source": [
    "importances = final.feature_importances_\n",
    "importances"
   ]
  },
  {
   "cell_type": "code",
   "execution_count": 71,
   "metadata": {},
   "outputs": [
    {
     "data": {
      "text/plain": [
       "883.0"
      ]
     },
     "execution_count": 71,
     "metadata": {},
     "output_type": "execute_result"
    }
   ],
   "source": [
    "new_df.power.max()"
   ]
  },
  {
   "cell_type": "code",
   "execution_count": null,
   "metadata": {},
   "outputs": [],
   "source": []
  }
 ],
 "metadata": {
  "kernelspec": {
   "display_name": "Python 3 (ipykernel)",
   "language": "python",
   "name": "python3"
  },
  "language_info": {
   "codemirror_mode": {
    "name": "ipython",
    "version": 3
   },
   "file_extension": ".py",
   "mimetype": "text/x-python",
   "name": "python",
   "nbconvert_exporter": "python",
   "pygments_lexer": "ipython3",
   "version": "3.8.5"
  }
 },
 "nbformat": 4,
 "nbformat_minor": 4
}
